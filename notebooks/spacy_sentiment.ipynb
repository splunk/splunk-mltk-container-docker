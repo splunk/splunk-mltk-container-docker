{
 "cells": [
  {
   "cell_type": "markdown",
   "metadata": {},
   "source": [
    "# Splunk App for Data Science and Deep Learning - Example for NLP with spaCy"
   ]
  },
  {
   "cell_type": "markdown",
   "metadata": {},
   "source": [
    "This notebook contains a barebone example workflow how to work on custom containerized code that seamlessly interfaces with you Splunk platform by utilizing the Splunk App for Data Science and Deep Learning (DSDL) - formerly known as the Deep Learning Toolkit for Splunk (DLTK). Find more examples and information in the app and on the [DSDL splunkbase page](https://splunkbase.splunk.com/app/4607/#/details)."
   ]
  },
  {
   "cell_type": "markdown",
   "metadata": {},
   "source": [
    "## Stage 0 - import libraries\n",
    "At stage 0 we define all imports necessary to run our subsequent code depending on various libraries."
   ]
  },
  {
   "cell_type": "code",
   "execution_count": 1,
   "metadata": {
    "deletable": false,
    "name": "mltkc_import"
   },
   "outputs": [],
   "source": [
    "# this definition exposes all python module imports that should be available in all subsequent commands\n",
    "import json\n",
    "import datetime\n",
    "import numpy as np\n",
    "import pandas as pd\n",
    "import spacy\n",
    "import en_core_web_sm\n",
    "from spacytextblob.spacytextblob import SpacyTextBlob\n",
    "\n",
    "# global constants\n",
    "MODEL_DIRECTORY = \"/srv/app/model/data/\""
   ]
  },
  {
   "cell_type": "code",
   "execution_count": 2,
   "metadata": {},
   "outputs": [
    {
     "name": "stdout",
     "output_type": "stream",
     "text": [
      "numpy version: 1.26.4\n",
      "pandas version: 2.2.2\n",
      "spacy version: 3.7.5\n"
     ]
    }
   ],
   "source": [
    "# THIS CELL IS NOT EXPORTED - free notebook cell for testing purposes\n",
    "print(\"numpy version: \" + np.__version__)\n",
    "print(\"pandas version: \" + pd.__version__)\n",
    "print(\"spacy version: \" + spacy.__version__)"
   ]
  },
  {
   "cell_type": "code",
   "execution_count": null,
   "metadata": {},
   "outputs": [],
   "source": [
    "import sys\n",
    "!{sys.executable} -m spacy download en_core_web_sm"
   ]
  },
  {
   "cell_type": "markdown",
   "metadata": {},
   "source": [
    "## Stage 1 - get a data sample from Splunk\n",
    "In Splunk run a search to pipe a prepared dataset into this environment."
   ]
  },
  {
   "cell_type": "markdown",
   "metadata": {},
   "source": [
    "| makeresults\n",
    "| eval text = \"Baroness is an American heavy metal band from Savannah, Georgia whose original members grew up together in Lexington, Virginia.Baroness formed in mid-2003, founded by former members of the punk/metal band Johnny Welfare and the Paychecks. Singer John Dyer Baizley creates the artwork for all Baroness albums, and has done artwork for other bands.;From 2004 to 2007, Baroness recorded and released three EPs, named First, Second and A Grey Sigh in a Flower Husk (aka Third), with the third one being a split album with Unpersons.;Baroness started recording their first full-length album in March 2007. Phillip Cope from Kylesa continued to produce Baroness on this album. The Red Album was released on September 4, 2007, and met positive reception. Heavy metal magazine Revolver named it Album of the Year. On December 1, 2007, Baroness performed at New York City's Bowery Ballroom. On September 20, 2008, the band announced via MySpace Brian Blickle would be parting ways with the band, while also introducing a new guitarist named Peter Adams, also of Virginia-based band Valkyrie.;Throughout 2007–9, Baroness toured and shared the stage with many bands including Converge, The Red Chord, High on Fire, Opeth, Coheed and Cambria, Coliseum, Mastodon, Minsk and Clutch.;On May 18, 2009 Baroness entered The Track Studio in Plano, Texas, to record their second full-length album, Blue Record, produced by John Congleton (The Roots, Explosions in the Sky, Black Mountain, The Polyphonic Spree). It was released via Relapse Records on October 13, 2009.;In February and March 2010 Baroness played in the Australian Soundwave Festival, alongside bands such as Clutch, Isis, Meshuggah, Janes Addiction and Faith No More, and toured Japan in March 2010 with Isis.;Baroness have toured with many other prominent bands, such as supporting Mastodon on their US headlining tour in April–May 2010, Deftones for August–September 2010. In addition, Baroness was selected as one of two support acts (the other being Lamb of God) for Metallica on their tour of Australia and New Zealand in late 2010.;Baroness also performed at Coachella and Bonnaroo in 2010.;Blue Record would later be named the 20th Greatest Metal Album in History by 'LA Weekly' in 2013.;On May 23, 2011, the band launched their official website. The first content released on the new page gave hints to work on a new album being produced again by John Congleton. On May 14, 2012, the single 'Take My Bones Away' from the new album was released over YouTube, along with an album teaser.;On August 15, 2012, nine passengers were injured (two seriously) when the German-registered coach in which the band were traveling fell from a viaduct near Bath, England. Emergency services were called to Brassknocker Hill in Monkton Combe after the coach fell 30 ft (9m) from the viaduct. Avon Fire and Rescue Service said the incident happened at 11:30BST; due to heavy rain and reduced visibility it was not possible for the air ambulance to land. Emergency services said two people were transported to Frenchay Hospital in Bristol while seven others went to the Royal United Hospital (RUH) in Bath. As a result of the crash, frontman John Baizley suffered a broken left arm and broken left leg. Allen Blickle and Matt Maggioni each suffered fractured vertebrae. Peter Adams was treated and released from the hospital on August 16, 2012.;During the subsequent months of recovery, Baroness began scheduling tour dates once more. John Baizley performed an acoustic set and artwork exhibition on March 14, 15, and 16, 2013 at SXSW in Austin, Texas. In addition, Baroness made plans to perform at festivals such as Chaos in Tejas, Free Press Summer Festival, and Heavy MTL in Montreal, Quebec.;On March 25, 2013, through a statement posted on Baroness' official website, it was announced that both Allen Blickle (drums) and Matt Maggioni (bass guitar) had left Baroness.;On April 1, 2013, the first leg of Baroness' 2013 US Headlining Tour was announced, featuring the debut of bass guitarist Nick Jost, and drummer Sebastian Thomson of Trans Am.;On September 27, 2013 they started their European Tour in Tilburg, Netherlands.;On August 28, 2015 towards the end of a two-week tour in Europe they released the song 'Chlorine & Wine' and announced that their new album Purple would be released December 18, 2015 on their own newly formed label Abraxan Hymns.;Purple was recorded with Dave Fridmann at Tarbox Road Studios in Cassadaga, New York.;On September 24, 2015, Baroness released the official music video for 'Chlorine & Wine' and announced a North American small venue tour for the fall of 2015.;On November 15, 2015, the band released the first official single 'Shock Me' from the forthcoming album Purple, which debuted on BBC Radio 1's Rock Show with Daniel P. Carter.;Purple's track 'Shock Me' was nominated for Grammy Award for Best Metal Performance at the 2017 Grammy Awards.;On April 26, 2017, in an interview in Teamrock, John Baizley stated that they had begun writing material for their fifth studio album. Baizley stated: 'We've started writing a few tunes that we’re working on. The really cool thing now is that Sebastian and Nick have been in the band long enough that they understand what we do.';On June 1, 2017, it was announced that Peter Adams was amicably leaving the band to focus his energy at home, and not on the road. Gina Gleason was announced as his replacement.;On March 9, 2019, the band began teasing the release of a new album, entitled Gold & Grey. Three days later on March 12, they released the album art on their social media accounts stating, 'This painting was born from a deeply personal reflection on the past 12 years of this band’s history, and will stand as the 6th and final piece in our chromatically-themed records.';Gold & Grey was released to overwhelmingly positive reviews, achieving a score of 94 on metacritic with 9 reviews. Critics praised the album's artistry, the instrumental musicianship, and the use of vocal harmonies as well as stylist breadth that builds upon elements from the band's past works while also incorporating new stylistic elements.\"\n",
    "| makemv text delim=\";\"\n",
    "| mvexpand text\n",
    "| fit MLTKContainer algo=spacy_sentiment mode=stage epochs=100 text into app:spacy_sentiment_model as sentiment"
   ]
  },
  {
   "cell_type": "markdown",
   "metadata": {},
   "source": [
    "After you run this search your data set sample is available as a csv inside the container to develop your model. The name is taken from the into keyword (\"spacy_entity_extraction_model in the example above) or set to \"default\" if no into keyword is present. This step is intended to work with a subset of your data to create your custom model."
   ]
  },
  {
   "cell_type": "code",
   "execution_count": 3,
   "metadata": {
    "deletable": false,
    "name": "mltkc_stage"
   },
   "outputs": [],
   "source": [
    "# this cell is not executed from MLTK and should only be used for staging data into the notebook environment\n",
    "def stage(name):\n",
    "    with open(\"data/\"+name+\".csv\", 'r') as f:\n",
    "        df = pd.read_csv(f)\n",
    "    with open(\"data/\"+name+\".json\", 'r') as f:\n",
    "        param = json.load(f)\n",
    "    return df, param"
   ]
  },
  {
   "cell_type": "code",
   "execution_count": 4,
   "metadata": {},
   "outputs": [
    {
     "name": "stdout",
     "output_type": "stream",
     "text": [
      "                                                 text\n",
      "0   Baroness is an American heavy metal band from ...\n",
      "1   From 2004 to 2007, Baroness recorded and relea...\n",
      "2   Baroness started recording their first full-le...\n",
      "3   Throughout 2007–9, Baroness toured and shared ...\n",
      "4   On May 18, 2009 Baroness entered The Track Stu...\n",
      "5   In February and March 2010 Baroness played in ...\n",
      "6   Baroness have toured with many other prominent...\n",
      "7   Baroness also performed at Coachella and Bonna...\n",
      "8   Blue Record would later be named the 20th Grea...\n",
      "9   On May 23, 2011, the band launched their offic...\n",
      "10  On August 15, 2012, nine passengers were injur...\n",
      "11   due to heavy rain and reduced visibility it w...\n",
      "12  During the subsequent months of recovery, Baro...\n",
      "13  On March 25, 2013, through a statement posted ...\n",
      "14  On April 1, 2013, the first leg of Baroness' 2...\n",
      "15  On September 27, 2013 they started their Europ...\n",
      "16  On August 28, 2015 towards the end of a two-we...\n",
      "17  Purple was recorded with Dave Fridmann at Tarb...\n",
      "18  On September 24, 2015, Baroness released the o...\n",
      "19  On November 15, 2015, the band released the fi...\n",
      "20  Purple's track 'Shock Me' was nominated for Gr...\n",
      "21  On April 26, 2017, in an interview in Teamrock...\n",
      "22  On June 1, 2017, it was announced that Peter A...\n",
      "23  On March 9, 2019, the band began teasing the r...\n",
      "24  Gold & Grey was released to overwhelmingly pos...\n",
      "(25, 1)\n",
      "{'options': {'params': {'mode': 'stage', 'algo': 'spacy_sentiment', 'epochs': '100'}, 'args': ['text'], 'feature_variables': ['text'], 'model_name': 'spacy_sentiment_model', 'output_name': 'sentiment', 'algo_name': 'MLTKContainer', 'mlspl_limits': {'handle_new_cat': 'default', 'max_distinct_cat_values': '10000', 'max_distinct_cat_values_for_classifiers': '10000', 'max_distinct_cat_values_for_scoring': '10000', 'max_fit_time': '60000', 'max_inputs': '100000000', 'max_memory_usage_mb': '16000', 'max_model_size_mb': '3000', 'max_score_time': '60000', 'use_sampling': 'true'}, 'kfold_cv': None}, 'feature_variables': ['text']}\n"
     ]
    }
   ],
   "source": [
    "# THIS CELL IS NOT EXPORTED - free notebook cell for testing purposes\n",
    "df, param = stage(\"spacy_sentiment_model\")\n",
    "print(df)\n",
    "print(df.shape)\n",
    "print(str(param))"
   ]
  },
  {
   "cell_type": "markdown",
   "metadata": {},
   "source": [
    "## Stage 2 - create and initialize a model"
   ]
  },
  {
   "cell_type": "code",
   "execution_count": 7,
   "metadata": {
    "deletable": false,
    "name": "mltkc_init"
   },
   "outputs": [],
   "source": [
    "# initialize the model\n",
    "# params: data and parameters\n",
    "# returns the model object which will be used as a reference to call fit, apply and summary subsequently\n",
    "def init(df,param):\n",
    "    # Load English parser and text blob (for sentiment analysis)\n",
    "    model = spacy.load('en_core_web_sm')\n",
    "    #spacy_text_blob = SpacyTextBlob()\n",
    "    #model.add_pipe(spacy_text_blob)\n",
    "    model.add_pipe('spacytextblob')\n",
    "    return model"
   ]
  },
  {
   "cell_type": "code",
   "execution_count": 8,
   "metadata": {
    "scrolled": true
   },
   "outputs": [],
   "source": [
    "model = init(df,param)"
   ]
  },
  {
   "cell_type": "markdown",
   "metadata": {},
   "source": [
    "## Stage 3 - fit the model"
   ]
  },
  {
   "cell_type": "markdown",
   "metadata": {},
   "source": [
    "Note that for this algorithm the model is pre-trained (the en_core_web_sm library comes pre-packaged by spacy) and therefore this stage is a placeholder only"
   ]
  },
  {
   "cell_type": "code",
   "execution_count": 9,
   "metadata": {
    "deletable": false,
    "name": "mltkc_fit"
   },
   "outputs": [],
   "source": [
    "# returns a fit info json object\n",
    "def fit(model,df,param):\n",
    "    returns = {}\n",
    "    return returns"
   ]
  },
  {
   "cell_type": "markdown",
   "metadata": {},
   "source": [
    "## Stage 4 - apply the model"
   ]
  },
  {
   "cell_type": "code",
   "execution_count": 14,
   "metadata": {
    "deletable": false,
    "name": "mltkc_apply"
   },
   "outputs": [],
   "source": [
    "def apply(model,df,param):\n",
    "    X = df[param['feature_variables']].values.tolist()\n",
    "    temp_data=list()\n",
    "    \n",
    "    for i in range(len(X)):\n",
    "        doc = model(str(X[i]))\n",
    "        polarity=doc._.blob.polarity\n",
    "        subjectivity=doc._.blob.subjectivity\n",
    "        assessments=doc._.blob.sentiment_assessments.assessments\n",
    "        temp_data.append([polarity,subjectivity,assessments])\n",
    "        \n",
    "    column_names=[\"polarity\",\"subjectivity\",\"assessments\"]\n",
    "    returns=pd.DataFrame(temp_data, columns=column_names)\n",
    "        \n",
    "    return returns"
   ]
  },
  {
   "cell_type": "code",
   "execution_count": 15,
   "metadata": {},
   "outputs": [
    {
     "name": "stdout",
     "output_type": "stream",
     "text": [
      "    polarity  subjectivity                                        assessments\n",
      "0   0.010000      0.325000  [([american], 0.0, 0.0, None), ([heavy], -0.2,...\n",
      "1   0.040000      0.086667  [([first], 0.25, 0.3333333333333333, None), ([...\n",
      "2   0.083333      0.388745  [([first], 0.25, 0.3333333333333333, None), ([...\n",
      "3   0.220000      0.346667  [([many], 0.5, 0.5, None), ([red], 0.0, 0.0, N...\n",
      "4  -0.033333      0.241667  [([second], 0.0, 0.0, None), ([full-length], 0...\n",
      "5  -0.083333      0.333333  [([australian], 0.0, 0.0, None), ([such], 0.0,...\n",
      "6   0.104545      0.506818  [([many], 0.5, 0.5, None), ([other], -0.125, 0...\n",
      "7   0.000000      0.000000                                                 []\n",
      "8   0.250000      0.275000  [([blue], 0.0, 0.1, None), ([later], 0.0, 0.0,...\n",
      "9   0.117532      0.382251  [([first], 0.25, 0.3333333333333333, None), ([...\n",
      "10 -0.116667      0.533333  [([seriously], -0.3333333333333333, 0.66666666...\n",
      "11 -0.160714      0.382143  [([due], -0.125, 0.375, None), ([heavy], -0.2,...\n",
      "12  0.140000      0.470000  [([subsequent], 0.0, 0.05, None), ([more], 0.5...\n",
      "13 -0.075000      0.250000  [([bass], -0.15000000000000002, 0.5, None), ([...\n",
      "14  0.050000      0.416667  [([first], 0.25, 0.3333333333333333, None), ([...\n",
      "15  0.000000      0.000000                     [([european], 0.0, 0.0, None)]\n",
      "16  0.290909      0.636364  [([new], 0.13636363636363635, 0.45454545454545...\n",
      "17  0.136364      0.454545  [([new], 0.13636363636363635, 0.45454545454545...\n",
      "18 -0.125000      0.200000  [([american], 0.0, 0.0, None), ([small], -0.25...\n",
      "19  0.089286      0.273810  [([first], 0.25, 0.3333333333333333, None), ([...\n",
      "20  1.000000      0.300000                         [([best], 1.0, 0.3, None)]\n",
      "21  0.025000      0.412500  [([few], -0.2, 0.1, None), ([really, cool], 0....\n",
      "22  0.000000      0.000000                                                 []\n",
      "23 -0.018615      0.310173  [([new], 0.13636363636363635, 0.45454545454545...\n",
      "24  0.015909      0.337500  [([grey], -0.05, 0.1, None), ([overwhelmingly,...\n"
     ]
    }
   ],
   "source": [
    "returns = apply(model,df,param)\n",
    "print(returns)"
   ]
  },
  {
   "cell_type": "markdown",
   "metadata": {},
   "source": [
    "## Stage 5 - save the model"
   ]
  },
  {
   "cell_type": "code",
   "execution_count": 16,
   "metadata": {
    "deletable": false,
    "name": "mltkc_save"
   },
   "outputs": [],
   "source": [
    "# save model to name in expected convention \"<algo_name>_<model_name>.h5\"\n",
    "def save(model,name):\n",
    "    # model will not be saved or reloaded as it is pre-built\n",
    "    return model"
   ]
  },
  {
   "cell_type": "code",
   "execution_count": null,
   "metadata": {},
   "outputs": [],
   "source": []
  },
  {
   "cell_type": "markdown",
   "metadata": {},
   "source": [
    "## Stage 6 - load the model"
   ]
  },
  {
   "cell_type": "code",
   "execution_count": 17,
   "metadata": {
    "deletable": false,
    "name": "mltkc_load"
   },
   "outputs": [],
   "source": [
    "# load model from name in expected convention \"<algo_name>_<model_name>.h5\"\n",
    "def load(name):\n",
    "    # model will not be saved or reloaded as it is pre-built\n",
    "    return model"
   ]
  },
  {
   "cell_type": "markdown",
   "metadata": {},
   "source": [
    "## Stage 7 - provide a summary of the model"
   ]
  },
  {
   "cell_type": "code",
   "execution_count": 18,
   "metadata": {
    "deletable": false,
    "name": "mltkc_summary"
   },
   "outputs": [],
   "source": [
    "# return model summary\n",
    "def summary(model=None):\n",
    "    returns = {\"version\": {\"spacy\": spacy.__version__} }\n",
    "    if model is not None:\n",
    "        s = []\n",
    "        returns[\"summary\"] = ''.join(s)\n",
    "    return returns"
   ]
  },
  {
   "cell_type": "markdown",
   "metadata": {},
   "source": [
    "## End of Stages\n",
    "All subsequent cells are not tagged and can be used for further freeform code"
   ]
  },
  {
   "cell_type": "code",
   "execution_count": null,
   "metadata": {},
   "outputs": [],
   "source": []
  },
  {
   "cell_type": "code",
   "execution_count": null,
   "metadata": {},
   "outputs": [],
   "source": []
  },
  {
   "cell_type": "code",
   "execution_count": null,
   "metadata": {},
   "outputs": [],
   "source": []
  },
  {
   "cell_type": "code",
   "execution_count": null,
   "metadata": {},
   "outputs": [],
   "source": []
  },
  {
   "cell_type": "code",
   "execution_count": null,
   "metadata": {},
   "outputs": [],
   "source": []
  }
 ],
 "metadata": {
  "kernelspec": {
   "display_name": "Python 3 (ipykernel)",
   "language": "python",
   "name": "python3"
  },
  "language_info": {
   "codemirror_mode": {
    "name": "ipython",
    "version": 3
   },
   "file_extension": ".py",
   "mimetype": "text/x-python",
   "name": "python",
   "nbconvert_exporter": "python",
   "pygments_lexer": "ipython3",
   "version": "3.9.18"
  }
 },
 "nbformat": 4,
 "nbformat_minor": 4
}
