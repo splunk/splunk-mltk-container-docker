{
 "cells": [
  {
   "cell_type": "markdown",
   "metadata": {},
   "source": [
    "# Milvus Similarity Search for encoded data (documents OR log data)"
   ]
  },
  {
   "cell_type": "markdown",
   "metadata": {},
   "source": [
    "Example Usage: \n",
    "\n",
    "| search ... | table text\n",
    "| fit MLTKContainer algo=llm_rag_milvus_search collection_name=notable_events_384_transformers embedder_service=huggingface embedder_name=\"all-MiniLM-L6-v2\" use_local=1 top_k=5 text into app:llm_rag_milvus_search\n",
    "| table text predicted_Results predicted_Fields\n",
    "| eval predicted_Results=split(predicted_Results,\"|\"), predicted_Fields=split(predicted_Fields,\"|\")\n",
    "| mvexpand predicted_Results\n",
    "| mvexpand predicted_Fields\n",
    "| dedup predicted_Results"
   ]
  },
  {
   "cell_type": "markdown",
   "metadata": {},
   "source": [
    "## Stage 0 - import libraries\n",
    "At stage 0 we define all imports necessary to run our subsequent code depending on various libraries."
   ]
  },
  {
   "cell_type": "code",
   "execution_count": 1,
   "metadata": {
    "deletable": false,
    "name": "mltkc_import"
   },
   "outputs": [],
   "source": [
    "# this definition exposes all python module imports that should be available in all subsequent commands\n",
    "import json\n",
    "import numpy as np\n",
    "import pandas as pd\n",
    "import os\n",
    "import time\n",
    "from llama_index.core import VectorStoreIndex, ServiceContext, Settings\n",
    "from llama_index.vector_stores.milvus import MilvusVectorStore\n",
    "from llama_index.core.vector_stores import ExactMatchFilter, MetadataFilter\n",
    "from llama_index.core.bridge.pydantic import BaseModel, StrictFloat, StrictInt, StrictStr\n",
    "from llama_index.core.schema import BaseComponent, BaseNode, TextNode\n",
    "from app.model.llm_utils import create_llm, create_embedding_model, create_vector_db\n",
    "# ...\n",
    "# global constants\n",
    "MODEL_DIRECTORY = \"/srv/app/model/data/\""
   ]
  },
  {
   "cell_type": "code",
   "execution_count": 2,
   "metadata": {},
   "outputs": [
    {
     "name": "stdout",
     "output_type": "stream",
     "text": [
      "numpy version: 1.26.4\n",
      "pandas version: 2.2.0\n"
     ]
    }
   ],
   "source": [
    "# THIS CELL IS NOT EXPORTED - free notebook cell for testing or development purposes\n",
    "print(\"numpy version: \" + np.__version__)\n",
    "print(\"pandas version: \" + pd.__version__)"
   ]
  },
  {
   "cell_type": "code",
   "execution_count": 2,
   "metadata": {
    "deletable": false,
    "name": "mltkc_stage"
   },
   "outputs": [],
   "source": [
    "# this cell is not executed from MLTK and should only be used for staging data into the notebook environment\n",
    "def stage(name):\n",
    "    with open(\"data/\"+name+\".csv\", 'r') as f:\n",
    "        df = pd.read_csv(f)\n",
    "    with open(\"data/\"+name+\".json\", 'r') as f:\n",
    "        param = json.load(f)\n",
    "    return df, param"
   ]
  },
  {
   "cell_type": "code",
   "execution_count": 3,
   "metadata": {},
   "outputs": [],
   "source": [
    "df, param = stage('llm_rag_milvus_search')"
   ]
  },
  {
   "cell_type": "markdown",
   "metadata": {},
   "source": [
    "## Stage 2 - create and initialize a model"
   ]
  },
  {
   "cell_type": "code",
   "execution_count": 4,
   "metadata": {
    "deletable": false,
    "name": "mltkc_init"
   },
   "outputs": [],
   "source": [
    "# initialize your model\n",
    "# available inputs: data and parameters\n",
    "# returns the model object which will be used as a reference to call fit, apply and summary subsequently\n",
    "def init(df,param):\n",
    "    model = {}\n",
    "    return model"
   ]
  },
  {
   "cell_type": "code",
   "execution_count": 5,
   "metadata": {
    "scrolled": true
   },
   "outputs": [
    {
     "name": "stdout",
     "output_type": "stream",
     "text": [
      "{}\n"
     ]
    }
   ],
   "source": [
    "# THIS CELL IS NOT EXPORTED - free notebook cell for testing or development purposes\n",
    "model = init(df,param)\n",
    "print(model)"
   ]
  },
  {
   "cell_type": "markdown",
   "metadata": {},
   "source": [
    "## Stage 3 - fit the model"
   ]
  },
  {
   "cell_type": "code",
   "execution_count": 12,
   "metadata": {
    "deletable": false,
    "name": "mltkc_fit"
   },
   "outputs": [],
   "source": [
    "# train your model\n",
    "# returns a fit info json object and may modify the model object\n",
    "def fit(model,df,param):\n",
    "    # model.fit()\n",
    "    info = {\"message\": \"model trained\"}\n",
    "    return info"
   ]
  },
  {
   "cell_type": "code",
   "execution_count": 13,
   "metadata": {},
   "outputs": [
    {
     "name": "stdout",
     "output_type": "stream",
     "text": [
      "{'message': 'model trained'}\n"
     ]
    }
   ],
   "source": [
    "# THIS CELL IS NOT EXPORTED - free notebook cell for testing or development purposes\n",
    "print(fit(model,df,param))"
   ]
  },
  {
   "cell_type": "markdown",
   "metadata": {},
   "source": [
    "## Stage 4 - apply the model"
   ]
  },
  {
   "cell_type": "code",
   "execution_count": 9,
   "metadata": {
    "deletable": false,
    "name": "mltkc_apply"
   },
   "outputs": [],
   "source": [
    "def apply(model,df,param):\n",
    "    try:\n",
    "        vec_service = param['options']['params']['vectordb_service'].strip('\\\"')\n",
    "        print(f\"Using {vec_service} vector database service\")\n",
    "    except:\n",
    "        vec_service = \"milvus\"\n",
    "        print(\"Using default Milvus vector database service\")\n",
    "        \n",
    "    try:\n",
    "        service = param['options']['params']['embedder_service'].strip('\\\"')\n",
    "        print(f\"Using {service} embedding service\")\n",
    "    except:\n",
    "        service = \"huggingface\"\n",
    "        print(\"Using default Huggingface embedding service\")\n",
    "\n",
    "    try:\n",
    "        use_local= int(param['options']['params']['use_local'])\n",
    "    except:\n",
    "        use_local = 0\n",
    "        print(\"Not using local model\") \n",
    "            \n",
    "    try:\n",
    "        embedder_name=param['options']['params']['embedder_name'].strip('\\\"')\n",
    "    except:\n",
    "        embedder_name = None\n",
    "        print(\"Model name not specified\") \n",
    "    \n",
    "    try:\n",
    "        embedder_dimension=int(param['options']['params']['embedder_dimension'])\n",
    "    except:\n",
    "        embedder_dimension=None\n",
    "        print(\"Model dimension not specified\") \n",
    "\n",
    "    try:\n",
    "        embedder, output_dims, m = create_embedding_model(service=service, model=embedder_name, use_local=use_local)\n",
    "\n",
    "        if embedder is not None:\n",
    "            print(m)\n",
    "        else:\n",
    "            cols = {\"Results\": [f\"ERROR in embedding model loading: {m}. \"]}\n",
    "            returns = pd.DataFrame(data=cols)\n",
    "            return returns\n",
    "        if output_dims:\n",
    "            embedder_dimension = output_dims \n",
    "    except Exception as e:\n",
    "        cols = {\"Results\": [f\"Failed to initiate embedding model. ERROR: {e}\"]}\n",
    "        returns = pd.DataFrame(data=cols)\n",
    "        return returns\n",
    "\n",
    "    try:\n",
    "        collection_name = param['options']['params']['collection_name'].strip('\\\"')\n",
    "    except:\n",
    "        cols = {\"Results\": [\"Please specify a collection_name parameter as the vector search target\"]}\n",
    "        returns = pd.DataFrame(data=cols)\n",
    "        return returns\n",
    "        \n",
    "    try:\n",
    "       top_k=int(param['options']['params']['top_k'])\n",
    "    except:\n",
    "        top_k=5\n",
    "        print(\"Using top 5 results by default\")\n",
    "        \n",
    "    try:\n",
    "        splitter=param['options']['params']['splitter']\n",
    "    except:\n",
    "        splitter=\"|\"\n",
    "\n",
    "    try:\n",
    "        Settings.llm = None\n",
    "        Settings.embed_model = embedder\n",
    "        vector_store, v_m = create_vector_db(service=vec_service, collection_name=collection_name, dim=embedder_dimension)\n",
    "        if vector_store is None:\n",
    "            cols = {\"Results\": [f\"Could not connect to vectordb. ERROR: {v_m}\"]}\n",
    "            result = pd.DataFrame(data=cols)\n",
    "            return result\n",
    "        index = VectorStoreIndex.from_vector_store(\n",
    "           vector_store=vector_store\n",
    "        )\n",
    "        retriever = index.as_retriever(similarity_top_k=top_k)\n",
    "    except Exception as e:\n",
    "        cols = {\"Results\": [f\"Could not load collection. ERROR: {e}\"]}\n",
    "        result = pd.DataFrame(data=cols)\n",
    "        return result\n",
    "    \n",
    "    try:\n",
    "        query = df['text'].astype(str).tolist()[0]\n",
    "    except Exception as e:\n",
    "        cols = {\"Results\": [f\"Failed to read input data. ERROR: {e}. Make sure you have an input field called text\"]}\n",
    "        returns = pd.DataFrame(data=cols)\n",
    "        return returns\n",
    "\n",
    "    retrieved_nodes = retriever.retrieve(query)\n",
    "    try:\n",
    "        result = pd.DataFrame([{\"Score\": node.score, \"Results\": node.text} for node in retrieved_nodes])\n",
    "        meta = pd.DataFrame([node.metadata for node in retrieved_nodes])\n",
    "        result[meta.columns] = meta\n",
    "    except Exception as e:\n",
    "        cols = {\"Results\": [f\"ERROR: {e}\"]}\n",
    "        return pd.DataFrame(data=cols)\n",
    "    if not len(result):\n",
    "        cols = {\"Results\": [\"ERROR: No result returned\"]}\n",
    "        return pd.DataFrame(data=cols)\n",
    "    \n",
    "    return result"
   ]
  },
  {
   "cell_type": "code",
   "execution_count": 10,
   "metadata": {},
   "outputs": [
    {
     "name": "stdout",
     "output_type": "stream",
     "text": [
      "Using pinecone vector database service\n",
      "Using azure_openai embedding service\n",
      "Not using local model\n",
      "Model name not specified\n",
      "Model dimension not specified\n",
      "Initializing embedding model object from azure_openai\n",
      "No model specified at the input. Using configured model text-embedding-3-large.\n",
      "The output dimensionality of the embedding model is 3072\n",
      "Successfully created Embedding model object from azure_openai\n",
      "LLM is explicitly disabled. Using MockLLM.\n",
      "                                        Results\n",
      "0  Could not load collection. ERROR: 'pinecone'\n"
     ]
    }
   ],
   "source": [
    "# THIS CELL IS NOT EXPORTED - free notebook cell for testing or development purposes\n",
    "print(apply(model,df,param))"
   ]
  },
  {
   "cell_type": "markdown",
   "metadata": {},
   "source": [
    "## Stage 5 - save the model"
   ]
  },
  {
   "cell_type": "code",
   "execution_count": 16,
   "metadata": {
    "deletable": false,
    "name": "mltkc_save"
   },
   "outputs": [],
   "source": [
    "# save model to name in expected convention \"<algo_name>_<model_name>\"\n",
    "def save(model,name):\n",
    "    model = {}\n",
    "    with open(MODEL_DIRECTORY + name + \".json\", 'w') as file:\n",
    "        json.dump(model, file)\n",
    "    return model"
   ]
  },
  {
   "cell_type": "markdown",
   "metadata": {},
   "source": [
    "## Stage 6 - load the model"
   ]
  },
  {
   "cell_type": "code",
   "execution_count": 17,
   "metadata": {
    "deletable": false,
    "name": "mltkc_load"
   },
   "outputs": [],
   "source": [
    "# load model from name in expected convention \"<algo_name>_<model_name>\"\n",
    "def load(name):\n",
    "    model = {}\n",
    "    with open(MODEL_DIRECTORY + name + \".json\", 'r') as file:\n",
    "        model = json.load(file)\n",
    "    return model"
   ]
  },
  {
   "cell_type": "markdown",
   "metadata": {},
   "source": [
    "## Stage 7 - provide a summary of the model"
   ]
  },
  {
   "cell_type": "code",
   "execution_count": 18,
   "metadata": {
    "deletable": false,
    "name": "mltkc_summary"
   },
   "outputs": [],
   "source": [
    "# return a model summary\n",
    "def summary(model=None):\n",
    "    returns = {\"version\": {\"numpy\": np.__version__, \"pandas\": pd.__version__} }\n",
    "    return returns\n",
    "\n",
    "def compute(model,df,param):\n",
    "    try:\n",
    "        vec_service = param['options']['params']['vectordb_service'].strip('\\\"')\n",
    "        print(f\"Using {vec_service} vector database service\")\n",
    "    except:\n",
    "        vec_service = \"milvus\"\n",
    "        print(\"Using default Milvus vector database service\")\n",
    "    \n",
    "    try:\n",
    "        service = param['options']['params']['embedder_service'].strip('\\\"')\n",
    "        print(f\"Using {service} embedding service\")\n",
    "    except:\n",
    "        service = \"huggingface\"\n",
    "        print(\"Using default Huggingface embedding service\")\n",
    "\n",
    "    try:\n",
    "        use_local= int(param['options']['params']['use_local'])\n",
    "    except:\n",
    "        use_local = 0\n",
    "        print(\"Not using local model\") \n",
    "            \n",
    "    try:\n",
    "        embedder_name=param['options']['params']['embedder_name'].strip('\\\"')\n",
    "    except:\n",
    "        embedder_name = None\n",
    "        print(\"Model name not specified\") \n",
    "    \n",
    "    try:\n",
    "        embedder_dimension=int(param['options']['params']['embedder_dimension'])\n",
    "    except:\n",
    "        embedder_dimension=None\n",
    "        print(\"Model dimension not specified\") \n",
    "\n",
    "    try:\n",
    "        embedder, output_dims, m = create_embedding_model(service=service, model=embedder_name, use_local=use_local)\n",
    "\n",
    "        if embedder is not None:\n",
    "            print(m)\n",
    "        else:\n",
    "            cols = {\"Results\": [f\"ERROR in embedding model loading: {m}. \"]}\n",
    "            returns = pd.DataFrame(data=cols)\n",
    "            return returns\n",
    "        if output_dims:\n",
    "            embedder_dimension = output_dims \n",
    "    except Exception as e:\n",
    "        cols = {\"Results\": [f\"Failed to initiate embedding model. ERROR: {e}\"]}\n",
    "        returns = pd.DataFrame(data=cols)\n",
    "        return returns\n",
    "\n",
    "    try:\n",
    "        collection_name = param['options']['params']['collection_name'].strip('\\\"')\n",
    "    except:\n",
    "        cols = {\"Results\": [\"Please specify a collection_name parameter as the vector search target\"]}\n",
    "        returns = pd.DataFrame(data=cols)\n",
    "        return returns\n",
    "        \n",
    "    try:\n",
    "       top_k=int(param['options']['params']['top_k'])\n",
    "    except:\n",
    "        top_k=5\n",
    "        print(\"Using top 5 results by default\")\n",
    "        \n",
    "    try:\n",
    "        splitter=param['options']['params']['splitter']\n",
    "    except:\n",
    "        splitter=\"|\"\n",
    "\n",
    "    try:\n",
    "        Settings.llm = None\n",
    "        Settings.embed_model = embedder\n",
    "        vector_store, v_m = create_vector_db(service=vec_service, collection_name=collection_name, dim=embedder_dimension)\n",
    "        if vector_store is None:\n",
    "            cols = {\"Results\": [f\"Could not connect to vectordb. ERROR: {v_m}\"]}\n",
    "            result = pd.DataFrame(data=cols)\n",
    "            return result\n",
    "        index = VectorStoreIndex.from_vector_store(\n",
    "           vector_store=vector_store\n",
    "        )\n",
    "        retriever = index.as_retriever(similarity_top_k=top_k)\n",
    "    except Exception as e:\n",
    "        cols = {\"Results\": [f\"Could not load collection. ERROR: {e}\"]}\n",
    "        result = pd.DataFrame(data=cols)\n",
    "        return result\n",
    "    \n",
    "    try:\n",
    "        query = df['text'].astype(str).tolist()[0]\n",
    "    except Exception as e:\n",
    "        cols = {\"Results\": [f\"Failed to read input data. ERROR: {e}. Make sure you have an input field called text\"]}\n",
    "        returns = pd.DataFrame(data=cols)\n",
    "        return returns\n",
    "\n",
    "    retrieved_nodes = retriever.retrieve(query)\n",
    "    try:\n",
    "        result = pd.DataFrame([{\"Score\": node.score, \"Results\": node.text} for node in retrieved_nodes])\n",
    "        meta = pd.DataFrame([node.metadata for node in retrieved_nodes])\n",
    "        result[meta.columns] = meta\n",
    "    except Exception as e:\n",
    "        cols = {\"Results\": [f\"ERROR: {e}\"]}\n",
    "        return pd.DataFrame(data=cols)\n",
    "    if not len(result):\n",
    "        cols = {\"Results\": [\"ERROR: No result returned\"]}\n",
    "        return pd.DataFrame(data=cols)\n",
    "    \n",
    "    return result"
   ]
  },
  {
   "cell_type": "markdown",
   "metadata": {},
   "source": [
    "After implementing your fit, apply, save and load you can train your model:<br>\n",
    "| makeresults count=10<br>\n",
    "| streamstats c as i<br>\n",
    "| eval s = i%3<br>\n",
    "| eval feature_{s}=0<br>\n",
    "| foreach feature_* [eval &lt;&lt;FIELD&gt;&gt;=random()/pow(2,31)]<br>\n",
    "| fit MLTKContainer algo=barebone s from feature_* into app:barebone_model<br>"
   ]
  },
  {
   "cell_type": "markdown",
   "metadata": {},
   "source": [
    "Or apply your model:<br>\n",
    "| makeresults count=10<br>\n",
    "| streamstats c as i<br>\n",
    "| eval s = i%3<br>\n",
    "| eval feature_{s}=0<br>\n",
    "| foreach feature_* [eval &lt;&lt;FIELD&gt;&gt;=random()/pow(2,31)]<br>\n",
    "| apply barebone_model as the_meaning_of_life"
   ]
  },
  {
   "cell_type": "markdown",
   "metadata": {},
   "source": [
    "## Send data back to Splunk HEC\n",
    "When you configured the Splunk HEC Settings in the DSDL app you can easily send back data to an index with [Splunk's HTTP Event Collector (HEC)](https://docs.splunk.com/Documentation/Splunk/latest/Data/UsetheHTTPEventCollector). Read more about data formats and options in the [documentation](https://docs.splunk.com/Documentation/Splunk/latest/Data/FormateventsforHTTPEventCollector#Event_metadata).\n",
    "\n",
    "### Use cases\n",
    "- you want to offload longer running, possibly distributed computations that need to deliver results asynchroneously back into Splunk. \n",
    "- you might not want to present results back into the search pipeline after your `| fit` or `| apply` command. \n",
    "- you can easily utilize this approach for any logging purposes or other profiling tasks in your ML code so you can actively monitor and analyze your processes.\n",
    "\n",
    "### Example"
   ]
  },
  {
   "cell_type": "code",
   "execution_count": 18,
   "metadata": {},
   "outputs": [],
   "source": [
    "from dsdlsupport import SplunkHEC as SplunkHEC\n",
    "hec = SplunkHEC.SplunkHEC()"
   ]
  },
  {
   "cell_type": "code",
   "execution_count": 19,
   "metadata": {},
   "outputs": [],
   "source": [
    "# example to send 10 hello world events\n",
    "response = hec.send_hello_world(10)"
   ]
  },
  {
   "cell_type": "code",
   "execution_count": 20,
   "metadata": {},
   "outputs": [
    {
     "name": "stdout",
     "output_type": "stream",
     "text": [
      "HEC endpoint http://host.docker.internal:8088/services/collector/event \n",
      "returned with status code 200 \n",
      "and response message: {\"text\":\"Success\",\"code\":0}\n"
     ]
    }
   ],
   "source": [
    "print(\"HEC endpoint %s \\nreturned with status code %s \\nand response message: %s\" % (response.url, response.status_code, response.text))"
   ]
  },
  {
   "cell_type": "code",
   "execution_count": 21,
   "metadata": {},
   "outputs": [],
   "source": [
    "# example to send a JSON object, e.g. to log some data\n",
    "from datetime import datetime\n",
    "response = hec.send({'event': {'message': 'operation done', 'log_level': 'INFO' }, 'time': datetime.now().timestamp()})"
   ]
  },
  {
   "cell_type": "code",
   "execution_count": 22,
   "metadata": {},
   "outputs": [
    {
     "name": "stdout",
     "output_type": "stream",
     "text": [
      "HEC endpoint http://host.docker.internal:8088/services/collector/event \n",
      "returned with status code 200 \n",
      "and response message: {\"text\":\"Success\",\"code\":0}\n"
     ]
    }
   ],
   "source": [
    "print(\"HEC endpoint %s \\nreturned with status code %s \\nand response message: %s\" % (response.url, response.status_code, response.text))"
   ]
  },
  {
   "cell_type": "markdown",
   "metadata": {},
   "source": [
    "## End of Stages\n",
    "All subsequent cells are not tagged and can be used for further freeform code"
   ]
  },
  {
   "cell_type": "code",
   "execution_count": null,
   "metadata": {},
   "outputs": [],
   "source": []
  },
  {
   "cell_type": "code",
   "execution_count": null,
   "metadata": {},
   "outputs": [],
   "source": []
  }
 ],
 "metadata": {
  "kernelspec": {
   "display_name": "Python 3 (ipykernel)",
   "language": "python",
   "name": "python3"
  },
  "language_info": {
   "codemirror_mode": {
    "name": "ipython",
    "version": 3
   },
   "file_extension": ".py",
   "mimetype": "text/x-python",
   "name": "python",
   "nbconvert_exporter": "python",
   "pygments_lexer": "ipython3",
   "version": "3.9.21"
  }
 },
 "nbformat": 4,
 "nbformat_minor": 4
}
