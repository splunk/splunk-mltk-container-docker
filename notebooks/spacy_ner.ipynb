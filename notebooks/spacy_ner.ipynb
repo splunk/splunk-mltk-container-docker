{
 "cells": [
  {
   "cell_type": "markdown",
   "metadata": {},
   "source": [
    "# Splunk App for Data Science and Deep Learning - Example for NLP with spaCy"
   ]
  },
  {
   "cell_type": "markdown",
   "metadata": {},
   "source": [
    "This notebook contains a barebone example workflow how to work on custom containerized code that seamlessly interfaces with you Splunk platform by utilizing the Splunk App for Data Science and Deep Learning (DSDL) - formerly known as the Deep Learning Toolkit for Splunk (DLTK). Find more examples and information in the app and on the [DSDL splunkbase page](https://splunkbase.splunk.com/app/4607/#/details)."
   ]
  },
  {
   "cell_type": "markdown",
   "metadata": {},
   "source": [
    "## Stage 0 - import libraries\n",
    "At stage 0 we define all imports necessary to run our subsequent code depending on various libraries."
   ]
  },
  {
   "cell_type": "code",
   "execution_count": 1,
   "metadata": {
    "deletable": false,
    "name": "mltkc_import"
   },
   "outputs": [],
   "source": [
    "# this definition exposes all python module imports that should be available in all subsequent commands\n",
    "import json\n",
    "import datetime\n",
    "import numpy as np\n",
    "import pandas as pd\n",
    "import spacy\n",
    "\n",
    "# global constants\n",
    "MODEL_DIRECTORY = \"/srv/app/model/data/\""
   ]
  },
  {
   "cell_type": "code",
   "execution_count": 2,
   "metadata": {},
   "outputs": [
    {
     "name": "stdout",
     "output_type": "stream",
     "text": [
      "numpy version: 1.26.4\n",
      "pandas version: 2.2.2\n",
      "spacy version: 3.7.5\n"
     ]
    }
   ],
   "source": [
    "# THIS CELL IS NOT EXPORTED - free notebook cell for testing purposes\n",
    "print(\"numpy version: \" + np.__version__)\n",
    "print(\"pandas version: \" + pd.__version__)\n",
    "print(\"spacy version: \" + spacy.__version__)"
   ]
  },
  {
   "cell_type": "code",
   "execution_count": null,
   "metadata": {},
   "outputs": [],
   "source": [
    "import sys\n",
    "!{sys.executable} -m spacy download en_core_web_sm"
   ]
  },
  {
   "cell_type": "markdown",
   "metadata": {},
   "source": [
    "## Stage 1 - get a data sample from Splunk\n",
    "In Splunk run a search to pipe a prepared dataset into this environment."
   ]
  },
  {
   "cell_type": "markdown",
   "metadata": {},
   "source": [
    "| makeresults\n",
    "| eval text = \"Boris Johnson has met Emmanuel Macron in Paris for Brexit talks, with the French president saying the UK's vote to quit the EU must be respected, but he added that the Ireland-Northern Ireland backstop plan was 'indispensable' to preserving political stability and the single market.;The backstop, opposed by Mr Johnson, aims to prevent a hard border on the island of Ireland after Brexit. Mr Johnson said that with 'energy and creativity we can find a way forward'.;On Wednesday German Chancellor Angela Merkel said the onus was on the UK to find a workable plan.;UK Prime Minister Mr Johnson insists the backstop must be ditched if a no-deal exit from the EU on 31 October is to be avoided.;He argues that it could leave the UK tied to the EU indefinitely, contrary to the result of the 2016 referendum, in which 52% of voters opted to leave.;But the EU has repeatedly said the withdrawal deal negotiated by former PM Theresa May, which includes the backstop, cannot be renegotiated.;However, it has previously said it would be willing to 'improve' the political declaration - the document that sets out the UK's future relationship with the EU.;Speaking after he greeted Mr Johnson at Paris's Elysee Palace, Mr Macron said he was 'very confident' that the UK and EU would be able to find a solution within 30 days - a timetable suggested by Mrs Merkel - 'if there is a good will on both sides'.;He said it would not be possible to find a new withdrawal agreement 'very different from the existing one' within that time, but added that an answer could be reached 'without reshuffling' the current deal.;Mr Macron also denied that he was the 'hard boy in the band', following suggestions that he would be tougher on the UK than his German counterpart.;Standing beside Mr Macron, Mr Johnson said he had been 'powerfully encouraged' by his conversations with Mrs Merkel in Berlin on Wednesday.;He emphasised his desire for a deal with the EU but added that it was 'vital for trust in politics' that the UK left the EU on 31 October.'He also said that 'under no circumstances' would the UK put checks or controls on the Ireland-UK border.;The two leaders ate lunch, drank coffee and walked through the Elysee gardens together during their talks, which lasted just under two hours. Mr Johnson then left to fly back to the UK.\"\n",
    "| makemv text delim=\";\"\n",
    "| mvexpand text\n",
    "| fit MLTKContainer algo=spacy_ner epochs=100 text into app:spacy_entity_extraction_model"
   ]
  },
  {
   "cell_type": "markdown",
   "metadata": {},
   "source": [
    "After you run this search your data set sample is available as a csv inside the container to develop your model. The name is taken from the into keyword (\"spacy_entity_extraction_model in the example above) or set to \"default\" if no into keyword is present. This step is intended to work with a subset of your data to create your custom model."
   ]
  },
  {
   "cell_type": "code",
   "execution_count": 5,
   "metadata": {
    "deletable": false,
    "name": "mltkc_stage"
   },
   "outputs": [],
   "source": [
    "# this cell is not executed from MLTK and should only be used for staging data into the notebook environment\n",
    "def stage(name):\n",
    "    with open(\"data/\"+name+\".csv\", 'r') as f:\n",
    "        df = pd.read_csv(f)\n",
    "    with open(\"data/\"+name+\".json\", 'r') as f:\n",
    "        param = json.load(f)\n",
    "    return df, param"
   ]
  },
  {
   "cell_type": "code",
   "execution_count": 6,
   "metadata": {},
   "outputs": [
    {
     "name": "stdout",
     "output_type": "stream",
     "text": [
      "                                                 text\n",
      "0   Baroness is an American heavy metal band from ...\n",
      "1   From 2004 to 2007, Baroness recorded and relea...\n",
      "2   Baroness started recording their first full-le...\n",
      "3   Throughout 2007–9, Baroness toured and shared ...\n",
      "4   On May 18, 2009 Baroness entered The Track Stu...\n",
      "5   In February and March 2010 Baroness played in ...\n",
      "6   Baroness have toured with many other prominent...\n",
      "7   Baroness also performed at Coachella and Bonna...\n",
      "8   Blue Record would later be named the 20th Grea...\n",
      "9   On May 23, 2011, the band launched their offic...\n",
      "10  On August 15, 2012, nine passengers were injur...\n",
      "11   due to heavy rain and reduced visibility it w...\n",
      "12  During the subsequent months of recovery, Baro...\n",
      "13  On March 25, 2013, through a statement posted ...\n",
      "14  On April 1, 2013, the first leg of Baroness' 2...\n",
      "15  On September 27, 2013 they started their Europ...\n",
      "16  On August 28, 2015 towards the end of a two-we...\n",
      "17  Purple was recorded with Dave Fridmann at Tarb...\n",
      "18  On September 24, 2015, Baroness released the o...\n",
      "19  On November 15, 2015, the band released the fi...\n",
      "20  Purple's track 'Shock Me' was nominated for Gr...\n",
      "21  On April 26, 2017, in an interview in Teamrock...\n",
      "22  On June 1, 2017, it was announced that Peter A...\n",
      "23  On March 9, 2019, the band began teasing the r...\n",
      "24  Gold & Grey was released to overwhelmingly pos...\n",
      "(25, 1)\n",
      "{'options': {'params': {'mode': 'stage', 'algo': 'spacy_ner', 'epochs': '100'}, 'args': ['text'], 'feature_variables': ['text'], 'model_name': 'spacy_entity_extraction_model', 'output_name': 'extracted', 'algo_name': 'MLTKContainer', 'mlspl_limits': {'handle_new_cat': 'default', 'max_distinct_cat_values': '10000', 'max_distinct_cat_values_for_classifiers': '10000', 'max_distinct_cat_values_for_scoring': '10000', 'max_fit_time': '60000', 'max_inputs': '100000000', 'max_memory_usage_mb': '16000', 'max_model_size_mb': '3000', 'max_score_time': '60000', 'use_sampling': 'true'}, 'kfold_cv': None}, 'feature_variables': ['text']}\n"
     ]
    }
   ],
   "source": [
    "# THIS CELL IS NOT EXPORTED - free notebook cell for testing purposes\n",
    "df, param = stage(\"spacy_entity_extraction_model\")\n",
    "print(df)\n",
    "print(df.shape)\n",
    "print(str(param))"
   ]
  },
  {
   "cell_type": "markdown",
   "metadata": {},
   "source": [
    "## Stage 2 - create and initialize a model"
   ]
  },
  {
   "cell_type": "code",
   "execution_count": 7,
   "metadata": {
    "deletable": false,
    "name": "mltkc_init"
   },
   "outputs": [],
   "source": [
    "# initialize the model\n",
    "# params: data and parameters\n",
    "# returns the model object which will be used as a reference to call fit, apply and summary subsequently\n",
    "def init(df,param):\n",
    "    # Load English tokenizer, tagger, parser, NER and word vectors\n",
    "    import en_core_web_sm\n",
    "    model = en_core_web_sm.load()\n",
    "    #model = spacy.load(\"en_core_web_sm\")\n",
    "    return model"
   ]
  },
  {
   "cell_type": "code",
   "execution_count": 8,
   "metadata": {
    "scrolled": true
   },
   "outputs": [],
   "source": [
    "model = init(df,param)"
   ]
  },
  {
   "cell_type": "markdown",
   "metadata": {},
   "source": [
    "## Stage 3 - fit the model"
   ]
  },
  {
   "cell_type": "markdown",
   "metadata": {},
   "source": [
    "Note that for this algorithm the model is pre-trained (the en_core_web_sm library comes pre-packaged by spacy) and therefore this stage is a placeholder only"
   ]
  },
  {
   "cell_type": "code",
   "execution_count": 9,
   "metadata": {
    "deletable": false,
    "name": "mltkc_fit"
   },
   "outputs": [],
   "source": [
    "# returns a fit info json object\n",
    "def fit(model,df,param):\n",
    "    returns = {}\n",
    "    \n",
    "    return returns"
   ]
  },
  {
   "cell_type": "markdown",
   "metadata": {},
   "source": [
    "## Stage 4 - apply the model"
   ]
  },
  {
   "cell_type": "code",
   "execution_count": 10,
   "metadata": {
    "deletable": false,
    "name": "mltkc_apply"
   },
   "outputs": [],
   "source": [
    "def apply(model,df,param):\n",
    "    X = df[param['feature_variables']].values.tolist()\n",
    "    \n",
    "    returns = list()\n",
    "    \n",
    "    for i in range(len(X)):\n",
    "        doc = model(str(X[i]))\n",
    "        \n",
    "        \n",
    "        entities = ''\n",
    "    \n",
    "        # Find named entities, phrases and concepts\n",
    "        for entity in doc.ents:\n",
    "            if entities == '':\n",
    "                entities = entities + entity.text + ':' + entity.label_\n",
    "            else:\n",
    "                entities = entities + '|' + entity.text + ':' + entity.label_\n",
    "        \n",
    "        returns.append(entities)\n",
    "    return returns"
   ]
  },
  {
   "cell_type": "code",
   "execution_count": 11,
   "metadata": {},
   "outputs": [
    {
     "name": "stdout",
     "output_type": "stream",
     "text": [
      "['American:NORP|Savannah:GPE|Georgia:GPE|Lexington:GPE|Virginia:GPE|mid-2003:DATE|Johnny Welfare:PERSON|Paychecks:ORG|John Dyer Baizley:PERSON', 'three:CARDINAL|First:ORDINAL|Second:ORDINAL|Third:ORDINAL|third:ORDINAL|Unpersons:ORG', \"first:ORDINAL|March 2007:DATE|Phillip Cope:PERSON|Kylesa:ORG|The Red Album:ORG|September 4, 2007:DATE|Revolver:PRODUCT|December 1, 2007:DATE|New York City's:GPE|Bowery Ballroom:PERSON|September 20, 2008:DATE|MySpace Brian Blickle:ORG|Peter Adams:PERSON|Virginia:GPE|Valkyrie:PERSON\", '2007–9:CARDINAL|Converge:PRODUCT|Opeth:DATE|Coheed:ORG|Cambria:GPE|Coliseum:GPE|Mastodon:GPE|Minsk:GPE|Clutch:PERSON', 'May 18, 2009:DATE|Plano:GPE|Texas:GPE|second:ORDINAL|Blue Record:ORG|John Congleton:PERSON|The Roots, Explosions:ORG|Black Mountain:LOC|The Polyphonic Spree:ORG|Relapse Records:ORG|October 13, 2009:DATE', 'February:DATE|March 2010:DATE|the Australian Soundwave Festival:EVENT|Clutch, Isis, Meshuggah, Janes Addiction:ORG|Japan:GPE|March 2010:DATE|Isis:ORG', 'Mastodon:PERSON|US:GPE|April:DATE|May 2010:DATE|Deftones:ORG|August:DATE|September 2010:DATE|one:CARDINAL|two:CARDINAL|Lamb:PERSON|Metallica:PERSON|Australia:GPE|New Zealand:GPE|late 2010:DATE', 'Coachella and Bonnaroo:ORG|2010:DATE', \"20th:ORDINAL|Greatest Metal Album:FAC|LA Weekly':ORG|2013:DATE\", \"May 23, 2011:DATE|first:ORDINAL|John Congleton:PERSON|May 14, 2012:DATE|'Take My Bones Away':WORK_OF_ART|YouTube:ORG\", 'August 15, 2012:DATE|nine:CARDINAL|two:CARDINAL|German:NORP|Bath, England:LOC|Brassknocker Hill:ORG|Monkton Combe:GPE|30 ft (:QUANTITY|Avon Fire:PERSON', 'two:CARDINAL|Frenchay Hospital:ORG|Bristol:ORG|seven:CARDINAL|the Royal United Hospital:ORG|RUH:ORG|John Baizley:PERSON|Allen Blickle:PERSON|Matt Maggioni:PERSON|Peter Adams:PERSON|August 16, 2012:DATE', 'the subsequent months:DATE|John Baizley:PERSON|acoustic:NORP|March 14, 15:DATE|16, 2013:DATE|SXSW:ORG|Austin:GPE|Texas:GPE|Chaos:PRODUCT|Tejas, Free Press Summer Festival:ORG|Heavy MTL:ORG|Montreal:GPE|Quebec:GPE', 'March 25, 2013:DATE|Baroness:ORG|Allen Blickle:PERSON|Matt Maggioni:PERSON|bass:PERSON', 'April 1, 2013:DATE|first:ORDINAL|2013:DATE|US Headlining Tour:EVENT|Nick Jost:PERSON|Sebastian Thomson:PERSON|Trans Am:ORG', 'September 27, 2013:DATE|European:NORP|Tilburg:GPE|Netherlands:GPE', \"August 28, 2015:DATE|two-week:DATE|Europe:LOC|Chlorine & Wine':ORG|Purple:PERSON|December 18, 2015:DATE|Abraxan Hymns:PERSON\", 'Dave Fridmann:PERSON|Tarbox Road Studios:ORG|Cassadaga:GPE|New York:GPE', \"September 24, 2015:DATE|Chlorine & Wine':ORG|North American:NORP|the fall of 2015:DATE\", \"November 15, 2015:DATE|first:ORDINAL|Purple:PERSON|BBC Radio 1's:ORG|Rock Show:LOC|Daniel P. Carter:PERSON\", '2017:DATE', 'April 26, 2017:DATE|Teamrock:GPE|John Baizley:PERSON|fifth:ORDINAL|Baizley:ORG|Sebastian:NORP|Nick:PERSON', 'June 1, 2017:DATE|Peter Adams:PERSON|Gina Gleason:PERSON', 'March 9, 2019:DATE|Gold & Grey:ORG|Three days later on March 12:DATE|the past 12 years:DATE|6th:ORDINAL', 'Gold & Grey:WORK_OF_ART|94:CARDINAL|9:CARDINAL']\n"
     ]
    }
   ],
   "source": [
    "returns = apply(model,df,param)\n",
    "print(returns)"
   ]
  },
  {
   "cell_type": "markdown",
   "metadata": {},
   "source": [
    "## Stage 5 - save the model"
   ]
  },
  {
   "cell_type": "code",
   "execution_count": 12,
   "metadata": {
    "deletable": false,
    "name": "mltkc_save"
   },
   "outputs": [],
   "source": [
    "# save model to name in expected convention \"<algo_name>_<model_name>.h5\"\n",
    "def save(model,name):\n",
    "    # model will not be saved or reloaded as it is pre-built\n",
    "    return model"
   ]
  },
  {
   "cell_type": "code",
   "execution_count": null,
   "metadata": {},
   "outputs": [],
   "source": []
  },
  {
   "cell_type": "markdown",
   "metadata": {},
   "source": [
    "## Stage 6 - load the model"
   ]
  },
  {
   "cell_type": "code",
   "execution_count": 13,
   "metadata": {
    "deletable": false,
    "name": "mltkc_load"
   },
   "outputs": [],
   "source": [
    "# load model from name in expected convention \"<algo_name>_<model_name>.h5\"\n",
    "def load(name):\n",
    "    # model will not be saved or reloaded as it is pre-built\n",
    "    return model"
   ]
  },
  {
   "cell_type": "markdown",
   "metadata": {},
   "source": [
    "## Stage 7 - provide a summary of the model"
   ]
  },
  {
   "cell_type": "code",
   "execution_count": 14,
   "metadata": {
    "deletable": false,
    "name": "mltkc_summary"
   },
   "outputs": [],
   "source": [
    "# return model summary\n",
    "def summary(model=None):\n",
    "    returns = {\"version\": {\"spacy\": spacy.__version__} }\n",
    "    if model is not None:\n",
    "        # Save keras model summary to string:\n",
    "        s = []\n",
    "        returns[\"summary\"] = ''.join(s)\n",
    "    return returns"
   ]
  },
  {
   "cell_type": "markdown",
   "metadata": {},
   "source": [
    "## End of Stages\n",
    "All subsequent cells are not tagged and can be used for further freeform code"
   ]
  },
  {
   "cell_type": "code",
   "execution_count": null,
   "metadata": {},
   "outputs": [],
   "source": []
  },
  {
   "cell_type": "code",
   "execution_count": null,
   "metadata": {},
   "outputs": [],
   "source": []
  },
  {
   "cell_type": "code",
   "execution_count": null,
   "metadata": {},
   "outputs": [],
   "source": []
  },
  {
   "cell_type": "code",
   "execution_count": null,
   "metadata": {},
   "outputs": [],
   "source": []
  },
  {
   "cell_type": "code",
   "execution_count": null,
   "metadata": {},
   "outputs": [],
   "source": []
  }
 ],
 "metadata": {
  "kernelspec": {
   "display_name": "Python 3 (ipykernel)",
   "language": "python",
   "name": "python3"
  },
  "language_info": {
   "codemirror_mode": {
    "name": "ipython",
    "version": 3
   },
   "file_extension": ".py",
   "mimetype": "text/x-python",
   "name": "python",
   "nbconvert_exporter": "python",
   "pygments_lexer": "ipython3",
   "version": "3.9.18"
  }
 },
 "nbformat": 4,
 "nbformat_minor": 4
}
