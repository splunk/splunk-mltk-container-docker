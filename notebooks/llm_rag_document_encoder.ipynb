{
 "cells": [
  {
   "cell_type": "markdown",
   "metadata": {},
   "source": [
    "# Encoding document data to vector DB using llama-index schema"
   ]
  },
  {
   "cell_type": "markdown",
   "metadata": {},
   "source": [
    "Example Usage:\n",
    "* Using Huggingface embedding model:\n",
    "* * | makeresults | fit MLTKContainer algo=llm_rag_document_encoder data_path=\"/srv/notebooks/data/Buttercup\" embedder_service=huggingface embedder_name=\"all-MiniLM-L6-v2\" use_local=1 embedder_dimension=384 collection_name=\"document_collection_example\" _time into app:llm_rag_document_encoder as Encoding\n",
    "* Using Cloud based embedding model\n",
    "* * | makeresults | fit MLTKContainer algo=llm_rag_document_encoder data_path=\"/srv/notebooks/data/Buttercup\" vectordb_service=milvus embedder_service=azure_openai collection_name=\"document_collection_example2\" _time into app:llm_rag_document_encoder as Encoding\n",
    " \n",
    "\n",
    "Parameters:\n",
    "* data_path: The path to the folder containing files to encode\n",
    "* collection_name: Name of the collection to store vectorized data.\n",
    "* vectordb_service: Type of VectorDB. Choose from milvus, pinecone, alloydb\n",
    "* embedder_service: Type of embedding model. Choose from huggingface, ollama, azure_openai, openai, bedrock, gemini\n",
    "* embedder_name: Name of embedding model. **OPTIONAl** if configured on DSDL UI.\n",
    "* embedder_dimension: Output dimensionality of the model. **OPTIONAl** if configured on DSDL UI.\n"
   ]
  },
  {
   "cell_type": "markdown",
   "metadata": {},
   "source": [
    "## Stage 0 - import libraries\n",
    "At stage 0 we define all imports necessary to run our subsequent code depending on various libraries."
   ]
  },
  {
   "cell_type": "code",
   "execution_count": 2,
   "metadata": {
    "deletable": false,
    "name": "mltkc_import",
    "scrolled": true
   },
   "outputs": [],
   "source": [
    "# this definition exposes all python module imports that should be available in all subsequent commands\n",
    "import json\n",
    "import numpy as np\n",
    "import pandas as pd\n",
    "import os\n",
    "import llama_index\n",
    "from llama_index.core import VectorStoreIndex, SimpleDirectoryReader, Document, StorageContext, ServiceContext, Settings\n",
    "from llama_index.readers.file import DocxReader, CSVReader, PDFReader, PptxReader, XMLReader, IPYNBReader \n",
    "from llama_index.vector_stores.milvus import MilvusVectorStore\n",
    "import textwrap\n",
    "from app.model.llm_utils import create_llm, create_embedding_model, create_vector_db\n",
    "# ...\n",
    "# global constants\n",
    "MODEL_DIRECTORY = \"/srv/app/model/data/\""
   ]
  },
  {
   "cell_type": "code",
   "execution_count": 9,
   "metadata": {},
   "outputs": [],
   "source": [
    "# NOT EXPORTED\n",
    "# Additional logging settings for llama-index\n",
    "import logging\n",
    "import sys\n",
    "import llama_index.core\n",
    "from llama_index.core.callbacks import (\n",
    "    CallbackManager,\n",
    "    LlamaDebugHandler,\n",
    "    CBEventType,\n",
    ")\n",
    "\n",
    "llama_index.core.set_global_handler(\"simple\")\n",
    "\n",
    "logging.basicConfig(stream=sys.stdout, level=logging.DEBUG)\n",
    "logging.getLogger().addHandler(logging.StreamHandler(stream=sys.stdout))\n",
    "\n",
    "llama_debug = LlamaDebugHandler(print_trace_on_end=True)\n",
    "callback_manager = CallbackManager([llama_debug])"
   ]
  },
  {
   "cell_type": "code",
   "execution_count": null,
   "metadata": {},
   "outputs": [],
   "source": [
    "# THIS CELL IS NOT EXPORTED - free notebook cell for testing or development purposes\n",
    "print(\"numpy version: \" + np.__version__)\n",
    "print(\"pandas version: \" + pd.__version__)"
   ]
  },
  {
   "cell_type": "markdown",
   "metadata": {},
   "source": [
    "## Stage 1"
   ]
  },
  {
   "cell_type": "code",
   "execution_count": 6,
   "metadata": {
    "deletable": false,
    "name": "mltkc_stage"
   },
   "outputs": [],
   "source": [
    "# this cell is not executed from MLTK and should only be used for staging data into the notebook environment\n",
    "def stage(name):\n",
    "    with open(\"data/\"+name+\".csv\", 'r') as f:\n",
    "        df = pd.read_csv(f)\n",
    "    with open(\"data/\"+name+\".json\", 'r') as f:\n",
    "        param = json.load(f)\n",
    "    return df, param"
   ]
  },
  {
   "cell_type": "markdown",
   "metadata": {},
   "source": [
    "## Stage 2 - create and initialize a model"
   ]
  },
  {
   "cell_type": "code",
   "execution_count": 10,
   "metadata": {
    "deletable": false,
    "name": "mltkc_init"
   },
   "outputs": [],
   "source": [
    "# initialize your model\n",
    "# available inputs: data and parameters\n",
    "# returns the model object which will be used as a reference to call fit, apply and summary subsequently\n",
    "def init(df,param):\n",
    "    model = {}\n",
    "    model['hyperparameter'] = 42.0\n",
    "    return model"
   ]
  },
  {
   "cell_type": "markdown",
   "metadata": {},
   "source": [
    "## Stage 3 - fit the model"
   ]
  },
  {
   "cell_type": "code",
   "execution_count": 19,
   "metadata": {
    "deletable": false,
    "name": "mltkc_fit"
   },
   "outputs": [],
   "source": [
    "# train your model\n",
    "# returns a fit info json object and may modify the model object\n",
    "def fit(model,df,param):\n",
    "    info = {\"message\": \"model trained\"}\n",
    "    return info"
   ]
  },
  {
   "cell_type": "code",
   "execution_count": null,
   "metadata": {},
   "outputs": [],
   "source": [
    "# THIS CELL IS NOT EXPORTED - free notebook cell for testing or development purposes\n",
    "print(fit(model,df,param))"
   ]
  },
  {
   "cell_type": "markdown",
   "metadata": {},
   "source": [
    "## Stage 4 - apply the model"
   ]
  },
  {
   "cell_type": "code",
   "execution_count": 22,
   "metadata": {
    "deletable": false,
    "name": "mltkc_apply"
   },
   "outputs": [],
   "source": [
    "def apply(model,df,param):\n",
    "    # Datapath Example: '/srv/notebooks/data/splunk_doc/'\n",
    "    try:\n",
    "        data_path = param['options']['params']['data_path'].strip('\\\"')\n",
    "    except:\n",
    "        data_path = None\n",
    "        print(\"No file path specified.\")\n",
    "\n",
    "    try:\n",
    "        vec_service = param['options']['params']['vectordb_service'].strip('\\\"')\n",
    "        print(f\"Using {vec_service} vector database service\")\n",
    "    except:\n",
    "        vec_service = \"milvus\"\n",
    "        print(\"Using default Milvus vector database service\")\n",
    "    \n",
    "    try:\n",
    "        service = param['options']['params']['embedder_service'].strip('\\\"')\n",
    "        print(f\"Using {service} embedding service\")\n",
    "    except:\n",
    "        service = \"huggingface\"\n",
    "        print(\"Using default Huggingface embedding service\")\n",
    "        \n",
    "    try:\n",
    "        embedder_dimension = int(param['options']['params']['embedder_dimension'])\n",
    "    except:\n",
    "        embedder_dimension = None\n",
    "        print(\"embedder_dimension not specified.\")\n",
    "        \n",
    "    try:\n",
    "        collection_name = param['options']['params']['collection_name'].strip('\\\"')\n",
    "    except:\n",
    "        collection_name = \"default-doc-collection\"\n",
    "        print(\"collection_name not specified. Use default-doc-collection by default.\")\n",
    "        \n",
    "    try:\n",
    "        embedder_name = param['options']['params']['embedder_name'].strip('\\\"')\n",
    "    except:\n",
    "        embedder_name = None\n",
    "        print(\"embedder_name not specified.\")\n",
    "\n",
    "    try:\n",
    "        use_local = int(param['options']['params']['use_local'])\n",
    "    except:\n",
    "        use_local = 0\n",
    "        print(\"Not using local model.\")\n",
    "        \n",
    "    # To support pptx files, huggingface extractor needs to be downloaded. Skipping support for this version\n",
    "    # Special parser for CSV data\n",
    "    parser = CSVReader()\n",
    "    file_extractor = {\".csv\": parser}\n",
    "    try:\n",
    "        # Create document dataloader - recursively find data from sub-directories\n",
    "        # Add desired file extensions in required_exts. For example: required_exts=[\".csv\", \".xml\", \".pdf\", \".docx\", \".ipynb\"]\n",
    "        documents = SimpleDirectoryReader(\n",
    "            input_dir=data_path, recursive=True, file_extractor=file_extractor, required_exts=[\".ipynb\", \".csv\", \".xml\", \".pdf\", \".txt\", \".docx\"]\n",
    "        ).load_data()\n",
    "    except Exception as e:\n",
    "        documents = None\n",
    "        message = f\"ERROR in directory loading: {e} \"\n",
    "\n",
    "    try:\n",
    "        embedder, output_dims, m = create_embedding_model(service=service, model=embedder_name, use_local=use_local)\n",
    "        if embedder is not None:\n",
    "            print(m)\n",
    "        else:\n",
    "            message = f\"ERROR in embedding model loading: {m}. \"\n",
    "        if output_dims:\n",
    "            embedder_dimension = output_dims\n",
    "    except Exception as e:\n",
    "        embedder = None\n",
    "        message = f\"ERROR in embedding model loading: {e}. Check if the model name is correct. If you selected Yes for use local embedder, make sure you have pulled the embedding model to local.\"\n",
    "\n",
    "    if (documents is not None) & (embedder is not None):\n",
    "        try:\n",
    "            # Replacing service context in legacy llama-index\n",
    "            Settings.llm = None\n",
    "            Settings.embed_model = embedder\n",
    "            Settings.chunk_size = 1024\n",
    "            # Creating vectorDB object\n",
    "            vector_store, v_m = create_vector_db(service=vec_service, collection_name=collection_name, dim=embedder_dimension)\n",
    "            if vector_store is None:\n",
    "                cols = {\"Embedder_Info\": [\"No Result\"], \"Vector_Store_Info\": [\"No Result\"], \"Documents_Info\": [\"No Result\"], \"Message\": [f\"Failed at creating vector database: {v_m}\"]}\n",
    "                result = pd.DataFrame(data=cols)\n",
    "                return result\n",
    "            storage_context = StorageContext.from_defaults(vector_store=vector_store)\n",
    "            # Index document data\n",
    "            index = VectorStoreIndex.from_documents(\n",
    "                documents, storage_context=storage_context\n",
    "            )\n",
    "            # Prepare output dataframe\n",
    "            embedder_info = [m]\n",
    "            vector_store = [str(vector_store)]\n",
    "            document = []\n",
    "            for d in documents:\n",
    "                document.append(str(d.metadata['file_path']))\n",
    "            document = str(list(dict.fromkeys(document)))\n",
    "            cols = {\"Embedder_Info\": embedder_info, \"Vector_Store_Info\": vector_store, \"Documents_Info\": [document], \"Message\": [\"Success\"]}\n",
    "        except Exception as e:\n",
    "            message = f\"ERROR in encoding: {e}.\"\n",
    "            cols = {\"Embedder_Info\": [\"No Result\"], \"Vector_Store_Info\": [\"No Result\"], \"Documents_Info\": [\"No Result\"], \"Message\": [message]}\n",
    "    else:\n",
    "        cols = {\"Embedder_Info\": [\"No Result\"], \"Vector_Store_Info\": [\"No Result\"], \"Documents_Info\": [\"No Result\"], \"Message\": [message]}\n",
    "    result = pd.DataFrame(data=cols)\n",
    "    return result"
   ]
  },
  {
   "cell_type": "code",
   "execution_count": null,
   "metadata": {
    "scrolled": true
   },
   "outputs": [],
   "source": [
    "# THIS CELL IS NOT EXPORTED - free notebook cell for testing or development purposes\n",
    "print(apply(model,df,param))"
   ]
  },
  {
   "cell_type": "markdown",
   "metadata": {},
   "source": [
    "## Stage 5 - save the model"
   ]
  },
  {
   "cell_type": "code",
   "execution_count": 16,
   "metadata": {
    "deletable": false,
    "name": "mltkc_save"
   },
   "outputs": [],
   "source": [
    "# save model to name in expected convention \"<algo_name>_<model_name>\"\n",
    "def save(model,name):\n",
    "    with open(MODEL_DIRECTORY + name + \".json\", 'w') as file:\n",
    "        json.dump(model, file)\n",
    "    return model"
   ]
  },
  {
   "cell_type": "markdown",
   "metadata": {},
   "source": [
    "## Stage 6 - load the model"
   ]
  },
  {
   "cell_type": "code",
   "execution_count": 17,
   "metadata": {
    "deletable": false,
    "name": "mltkc_load"
   },
   "outputs": [],
   "source": [
    "# load model from name in expected convention \"<algo_name>_<model_name>\"\n",
    "def load(name):\n",
    "    model = {}\n",
    "    with open(MODEL_DIRECTORY + name + \".json\", 'r') as file:\n",
    "        model = json.load(file)\n",
    "    return model"
   ]
  },
  {
   "cell_type": "markdown",
   "metadata": {},
   "source": [
    "## Stage 7 - provide a summary of the model"
   ]
  },
  {
   "cell_type": "code",
   "execution_count": 25,
   "metadata": {
    "deletable": false,
    "name": "mltkc_summary"
   },
   "outputs": [],
   "source": [
    "# return a model summary\n",
    "def summary(model=None):\n",
    "    returns = {\"version\": {\"numpy\": np.__version__, \"pandas\": pd.__version__} }\n",
    "    return returns\n",
    "def compute(model,df,param):\n",
    "    # Datapath Example: '/srv/notebooks/data/splunk_doc/'\n",
    "    try:\n",
    "        data_path = param['options']['params']['data_path'].strip('\\\"')\n",
    "    except:\n",
    "        data_path = None\n",
    "        print(\"No file path specified.\")\n",
    "\n",
    "    try:\n",
    "        vec_service = param['options']['params']['vectordb_service'].strip('\\\"')\n",
    "        print(f\"Using {vec_service} vector database service\")\n",
    "    except:\n",
    "        vec_service = \"milvus\"\n",
    "        print(\"Using default Milvus vector database service\")\n",
    "    \n",
    "    try:\n",
    "        service = param['options']['params']['embedder_service'].strip('\\\"')\n",
    "        print(f\"Using {service} embedding service\")\n",
    "    except:\n",
    "        service = \"huggingface\"\n",
    "        print(\"Using default Huggingface embedding service\")\n",
    "        \n",
    "    try:\n",
    "        embedder_dimension = int(param['options']['params']['embedder_dimension'])\n",
    "    except:\n",
    "        embedder_dimension = None\n",
    "        print(\"embedder_dimension not specified.\")\n",
    "        \n",
    "    try:\n",
    "        collection_name = param['options']['params']['collection_name'].strip('\\\"')\n",
    "    except:\n",
    "        collection_name = \"default-doc-collection\"\n",
    "        print(\"collection_name not specified. Use default-doc-collection by default.\")\n",
    "        \n",
    "    try:\n",
    "        embedder_name = param['options']['params']['embedder_name'].strip('\\\"')\n",
    "    except:\n",
    "        embedder_name = None\n",
    "        print(\"embedder_name not specified.\")\n",
    "\n",
    "    try:\n",
    "        use_local = int(param['options']['params']['use_local'])\n",
    "    except:\n",
    "        use_local = 0\n",
    "        print(\"Not using local model.\")\n",
    "        \n",
    "    # To support pptx files, huggingface extractor needs to be downloaded. Skipping support for this version\n",
    "    # Special parser for CSV data\n",
    "    parser = CSVReader()\n",
    "    file_extractor = {\".csv\": parser}\n",
    "    try:\n",
    "        # Create document dataloader - recursively find data from sub-directories\n",
    "        # Add desired file extensions in required_exts. For example: required_exts=[\".csv\", \".xml\", \".pdf\", \".docx\", \".ipynb\"]\n",
    "        documents = SimpleDirectoryReader(\n",
    "            input_dir=data_path, recursive=True, file_extractor=file_extractor, required_exts=[\".ipynb\", \".csv\", \".xml\", \".pdf\", \".txt\", \".docx\"]\n",
    "        ).load_data()\n",
    "    except Exception as e:\n",
    "        documents = None\n",
    "        message = f\"ERROR in directory loading: {e} \"\n",
    "\n",
    "    try:\n",
    "        embedder, output_dims, m = create_embedding_model(service=service, model=embedder_name, use_local=use_local)\n",
    "        if embedder is not None:\n",
    "            print(m)\n",
    "        else:\n",
    "            message = f\"ERROR in embedding model loading: {m}. \"\n",
    "        if output_dims:\n",
    "            embedder_dimension = output_dims\n",
    "    except Exception as e:\n",
    "        embedder = None\n",
    "        message = f\"ERROR in embedding model loading: {e}. Check if the model name is correct. If you selected Yes for use local embedder, make sure you have pulled the embedding model to local.\"\n",
    "\n",
    "    if (documents is not None) & (embedder is not None):\n",
    "        try:\n",
    "            # Replacing service context in legacy llama-index\n",
    "            Settings.llm = None\n",
    "            Settings.embed_model = embedder\n",
    "            Settings.chunk_size = 1024\n",
    "            # Creating vectorDB object\n",
    "            vector_store, v_m = create_vector_db(service=vec_service, collection_name=collection_name, dim=embedder_dimension)\n",
    "            if vector_store is None:\n",
    "                cols = {\"Embedder_Info\": [\"No Result\"], \"Vector_Store_Info\": [\"No Result\"], \"Documents_Info\": [\"No Result\"], \"Message\": [f\"Failed at creating vector database: {v_m}\"]}\n",
    "                result = pd.DataFrame(data=cols)\n",
    "                return result\n",
    "            storage_context = StorageContext.from_defaults(vector_store=vector_store)\n",
    "            # Index document data\n",
    "            index = VectorStoreIndex.from_documents(\n",
    "                documents, storage_context=storage_context\n",
    "            )\n",
    "            # Prepare output dataframe\n",
    "            embedder_info = [m]\n",
    "            vector_store = [str(vector_store)]\n",
    "            document = []\n",
    "            for d in documents:\n",
    "                document.append(str(d.metadata['file_path']))\n",
    "            document = str(list(dict.fromkeys(document)))\n",
    "            cols = {\"Embedder_Info\": embedder_info, \"Vector_Store_Info\": vector_store, \"Documents_Info\": [document], \"Message\": [\"Success\"]}\n",
    "        except Exception as e:\n",
    "            message = f\"ERROR in encoding: {e}.\"\n",
    "            cols = {\"Embedder_Info\": [\"No Result\"], \"Vector_Store_Info\": [\"No Result\"], \"Documents_Info\": [\"No Result\"], \"Message\": [message]}\n",
    "    else:\n",
    "        cols = {\"Embedder_Info\": [\"No Result\"], \"Vector_Store_Info\": [\"No Result\"], \"Documents_Info\": [\"No Result\"], \"Message\": [message]}\n",
    "    result = pd.DataFrame(data=cols)\n",
    "    return result"
   ]
  },
  {
   "cell_type": "markdown",
   "metadata": {},
   "source": [
    "## End of Stages\n",
    "All subsequent cells are not tagged and can be used for further freeform code"
   ]
  },
  {
   "cell_type": "code",
   "execution_count": null,
   "metadata": {},
   "outputs": [],
   "source": []
  },
  {
   "cell_type": "code",
   "execution_count": null,
   "metadata": {},
   "outputs": [],
   "source": []
  }
 ],
 "metadata": {
  "kernelspec": {
   "display_name": "Python 3 (ipykernel)",
   "language": "python",
   "name": "python3"
  },
  "language_info": {
   "codemirror_mode": {
    "name": "ipython",
    "version": 3
   },
   "file_extension": ".py",
   "mimetype": "text/x-python",
   "name": "python",
   "nbconvert_exporter": "python",
   "pygments_lexer": "ipython3",
   "version": "3.9.21"
  }
 },
 "nbformat": 4,
 "nbformat_minor": 4
}
