{
 "cells": [
  {
   "cell_type": "markdown",
   "metadata": {},
   "source": [
    "# Manage vectorDB collections "
   ]
  },
  {
   "cell_type": "markdown",
   "metadata": {},
   "source": [
    "Use this notebook to list / delete collections within Milvus DB and check schemas and number of rows of a collection\n",
    "\n",
    "Example Usage: \n",
    "\n",
    "List\n",
    "| makeresults\n",
    "| fit MLTKContainer algo=llm_rag_milvus_management task=list_collections _time into app:llm_rag_milvus_management as RAG\n",
    "| eval RAG_Collections=split(RAG_Collections,\"|\") | mvexpand RAG_Collections\n",
    "\n",
    "Delete\n",
    "| makeresults\n",
    "| fit MLTKContainer algo=llm_rag_milvus_management task=delete_collection collection_name=document_collection_example _time into app:llm_rag_milvus_management as RAG\n",
    "\n",
    "Schema\n",
    "| makeresults\n",
    "| fit MLTKContainer algo=llm_rag_milvus_management task=show_schema collection_name=document_collection_example _time into app:llm_rag_milvus_management as RAG\n",
    "\n",
    "Rows\n",
    "| makeresults\n",
    "| fit MLTKContainer algo=llm_rag_milvus_management task=show_rows collection_name=document_collection_example _time into app:llm_rag_milvus_management as RAG\n"
   ]
  },
  {
   "cell_type": "markdown",
   "metadata": {},
   "source": [
    "## Stage 0 - import libraries\n",
    "At stage 0 we define all imports necessary to run our subsequent code depending on various libraries."
   ]
  },
  {
   "cell_type": "code",
   "execution_count": 2,
   "metadata": {
    "deletable": false,
    "name": "mltkc_import"
   },
   "outputs": [],
   "source": [
    "# this definition exposes all python module imports that should be available in all subsequent commands\n",
    "import json\n",
    "import numpy as np\n",
    "import pandas as pd\n",
    "import os\n",
    "import pymilvus\n",
    "from pymilvus import (\n",
    "    connections,\n",
    "    utility,\n",
    "    FieldSchema, CollectionSchema, DataType,\n",
    "    Collection,\n",
    ")\n",
    "from pymilvus import MilvusClient\n",
    "# ...\n",
    "# global constants\n",
    "MODEL_DIRECTORY = \"/srv/app/model/data/\"\n",
    "MILVUS_ENDPOINT = \"http://milvus-standalone:19530\""
   ]
  },
  {
   "cell_type": "code",
   "execution_count": null,
   "metadata": {},
   "outputs": [],
   "source": [
    "# THIS CELL IS NOT EXPORTED - free notebook cell for testing or development purposes\n",
    "print(\"numpy version: \" + np.__version__)\n",
    "print(\"pandas version: \" + pd.__version__)\n",
    "\n",
    "# this cell is not executed from MLTK and should only be used for staging data into the notebook environment\n",
    "def stage(name):\n",
    "    with open(\"data/\"+name+\".csv\", 'r') as f:\n",
    "        df = pd.read_csv(f)\n",
    "    with open(\"data/\"+name+\".json\", 'r') as f:\n",
    "        param = json.load(f)\n",
    "    return df, param"
   ]
  },
  {
   "cell_type": "code",
   "execution_count": 7,
   "metadata": {},
   "outputs": [],
   "source": [
    "# THIS CELL IS NOT EXPORTED - free notebook cell for testing or development purposes\n",
    "df, param = stage(\"llm_rag_milvus_management\")"
   ]
  },
  {
   "cell_type": "markdown",
   "metadata": {},
   "source": [
    "## Stage 2 - create and initialize a model"
   ]
  },
  {
   "cell_type": "code",
   "execution_count": 10,
   "metadata": {
    "deletable": false,
    "name": "mltkc_init"
   },
   "outputs": [],
   "source": [
    "# initialize your model\n",
    "# available inputs: data and parameters\n",
    "# returns the model object which will be used as a reference to call fit, apply and summary subsequently\n",
    "def init(df,param):\n",
    "    model = {}\n",
    "    model['hyperparameter'] = 42.0\n",
    "    return model"
   ]
  },
  {
   "cell_type": "code",
   "execution_count": null,
   "metadata": {},
   "outputs": [],
   "source": [
    "# THIS CELL IS NOT EXPORTED - free notebook cell for testing or development purposes\n",
    "model = init(df,param)\n",
    "print(model)"
   ]
  },
  {
   "cell_type": "markdown",
   "metadata": {},
   "source": [
    "## Stage 3 - fit the model"
   ]
  },
  {
   "cell_type": "code",
   "execution_count": 12,
   "metadata": {
    "deletable": false,
    "name": "mltkc_fit"
   },
   "outputs": [],
   "source": [
    "# train your model\n",
    "# returns a fit info json object and may modify the model object\n",
    "def fit(model,df,param):\n",
    "    # model.fit()\n",
    "    info = {\"message\": \"model trained\"}\n",
    "    return info"
   ]
  },
  {
   "cell_type": "code",
   "execution_count": 13,
   "metadata": {},
   "outputs": [
    {
     "name": "stdout",
     "output_type": "stream",
     "text": [
      "{'message': 'model trained'}\n"
     ]
    }
   ],
   "source": [
    "# THIS CELL IS NOT EXPORTED - free notebook cell for testing or development purposes\n",
    "print(fit(model,df,param))"
   ]
  },
  {
   "cell_type": "markdown",
   "metadata": {},
   "source": [
    "## Stage 4 - apply the model"
   ]
  },
  {
   "cell_type": "code",
   "execution_count": 14,
   "metadata": {
    "deletable": false,
    "name": "mltkc_apply"
   },
   "outputs": [],
   "source": [
    "# apply your model\n",
    "# returns the calculated results\n",
    "def apply(model,df,param):\n",
    "    # Manager task includes list_collections, delete_collection, show_schema and show_rows\n",
    "    task = param['options']['params']['task']\n",
    "    try:\n",
    "        collection_name = param['options']['params']['collection_name']\n",
    "    except:\n",
    "        collection_name = 'default_collection'\n",
    "        \n",
    "    client = MilvusClient(\n",
    "        uri=MILVUS_ENDPOINT,\n",
    "        token=\"\"\n",
    "    )\n",
    "    connections.connect(\"default\", host=\"milvus-standalone\", port=\"19530\")\n",
    "    \n",
    "    if task == \"general\":\n",
    "        collection_list = client.list_collections()\n",
    "        schemas = []\n",
    "        rows = []\n",
    "        for clt in collection_list:\n",
    "            collection = Collection(clt)\n",
    "            m1 = str([item.name for item in collection.schema.fields])\n",
    "            schemas.append(m1)\n",
    "            rows.append(collection.num_entities)\n",
    "        cols = {\"Collections\": collection_list, \"Fields\": schemas, \"Number_of_rows\": rows}\n",
    "            \n",
    "    elif task == \"list_collections\":\n",
    "        collection_list = \"|\".join(client.list_collections())\n",
    "        cols = {\"Collections\": [collection_list], \"Message\": [\"No result\"], \"Schema\": [\"No result\"], \"Number_of_rows\": [\"No result\"]}\n",
    "    elif task == \"delete_collection\":\n",
    "        utility.drop_collection(collection_name)\n",
    "        m = f'Deleted collection {collection_name}'\n",
    "        cols = {\"Collections\": [\"No result\"], \"Message\": [m], \"Schema\": [\"No result\"], \"Number_of_rows\": [\"No result\"]}\n",
    "    elif task == \"show_schema\":\n",
    "        try:\n",
    "            collection = Collection(collection_name)\n",
    "            s = str(collection.schema.fields)\n",
    "        except:\n",
    "            s = ''\n",
    "        cols = {\"Collections\": [\"No result\"], \"Message\": [\"No result\"], \"Schema\": [s], \"Number_of_rows\": [\"No result\"]}\n",
    "    elif task == \"show_rows\":\n",
    "        try:\n",
    "            collection = Collection(collection_name)\n",
    "            n = str(collection.num_entities)\n",
    "        except:\n",
    "            n = ''\n",
    "        cols = {\"Collections\": [\"No result\"], \"Message\": [\"No result\"], \"Schema\": [\"No result\"], \"Number_of_rows\": [n]}\n",
    "    else:\n",
    "        cols = {\"Collections\": [\"No result\"], \"Message\": [\"No result\"], \"Schema\": [\"No result\"], \"Number_of_rows\": [\"No result\"]}\n",
    "\n",
    "    result = pd.DataFrame(data=cols)\n",
    "    return result"
   ]
  },
  {
   "cell_type": "code",
   "execution_count": null,
   "metadata": {
    "scrolled": true
   },
   "outputs": [],
   "source": [
    "# THIS CELL IS NOT EXPORTED - free notebook cell for testing or development purposes\n",
    "print(apply(model,df,param))"
   ]
  },
  {
   "cell_type": "markdown",
   "metadata": {},
   "source": [
    "## Stage 5 - save the model"
   ]
  },
  {
   "cell_type": "code",
   "execution_count": 16,
   "metadata": {
    "deletable": false,
    "name": "mltkc_save"
   },
   "outputs": [],
   "source": [
    "# save model to name in expected convention \"<algo_name>_<model_name>\"\n",
    "def save(model,name):\n",
    "    with open(MODEL_DIRECTORY + name + \".json\", 'w') as file:\n",
    "        json.dump(model, file)\n",
    "    return model"
   ]
  },
  {
   "cell_type": "markdown",
   "metadata": {},
   "source": [
    "## Stage 6 - load the model"
   ]
  },
  {
   "cell_type": "code",
   "execution_count": 17,
   "metadata": {
    "deletable": false,
    "name": "mltkc_load"
   },
   "outputs": [],
   "source": [
    "# load model from name in expected convention \"<algo_name>_<model_name>\"\n",
    "def load(name):\n",
    "    model = {}\n",
    "    with open(MODEL_DIRECTORY + name + \".json\", 'r') as file:\n",
    "        model = json.load(file)\n",
    "    return model"
   ]
  },
  {
   "cell_type": "markdown",
   "metadata": {},
   "source": [
    "## Stage 7 - provide a summary of the model"
   ]
  },
  {
   "cell_type": "code",
   "execution_count": 18,
   "metadata": {
    "deletable": false,
    "name": "mltkc_summary"
   },
   "outputs": [],
   "source": [
    "# return a model summary\n",
    "def summary(model=None):\n",
    "    returns = {\"version\": {\"numpy\": np.__version__, \"pandas\": pd.__version__} }\n",
    "    return returns\n",
    "\n",
    "def compute(model,df,param):\n",
    "    # Manager task includes list_collections, delete_collection, show_schema and show_rows\n",
    "    task = param['params']['task']\n",
    "    try:\n",
    "        collection_name = param['params']['collection_name']\n",
    "    except:\n",
    "        collection_name = 'default_collection'\n",
    "        \n",
    "    client = MilvusClient(\n",
    "        uri=MILVUS_ENDPOINT,\n",
    "        token=\"\"\n",
    "    )\n",
    "    connections.connect(\"default\", host=\"milvus-standalone\", port=\"19530\")\n",
    "    \n",
    "    if task == \"general\":\n",
    "        collection_list = client.list_collections()\n",
    "        schemas = []\n",
    "        rows = []\n",
    "        for clt in collection_list:\n",
    "            collection = Collection(clt)\n",
    "            m1 = str([item.name for item in collection.schema.fields])\n",
    "            schemas.append(m1)\n",
    "            rows.append(str(collection.num_entities))\n",
    "        cols = {\"Collections\": \"|\".join(collection_list), \"Fields\": \"|\".join(schemas), \"Number_of_rows\": \"|\".join(rows)}\n",
    "            \n",
    "    elif task == \"list_collections\":\n",
    "        collection_list = \"|\".join(client.list_collections())\n",
    "        cols = {\"Collections\": collection_list, \"Message\": \"No result\", \"Schema\": \"No result\", \"Number_of_rows\": \"No result\"}\n",
    "    elif task == \"delete_collection\":\n",
    "        utility.drop_collection(collection_name)\n",
    "        m = f'Deleted collection {collection_name}'\n",
    "        cols = {\"Collections\": \"No result\", \"Message\": m, \"Schema\": \"No result\", \"Number_of_rows\": \"No result\"}\n",
    "    elif task == \"show_schema\":\n",
    "        try:\n",
    "            collection = Collection(collection_name)\n",
    "            s = str(collection.schema.fields)\n",
    "        except:\n",
    "            s = ''\n",
    "        cols = {\"Collections\": \"No result\", \"Message\": \"No result\", \"Schema\": s, \"Number_of_rows\": \"No result\"}\n",
    "    elif task == \"show_rows\":\n",
    "        try:\n",
    "            collection = Collection(collection_name)\n",
    "            n = str(collection.num_entities)\n",
    "        except:\n",
    "            n = ''\n",
    "        cols = {\"Collections\": \"No result\", \"Message\": \"No result\", \"Schema\": \"No result\", \"Number_of_rows\": n}\n",
    "    else:\n",
    "        cols = {\"Collections\": \"No result\", \"Message\": \"No result\", \"Schema\": \"No result\", \"Number_of_rows\": \"No result\"}\n",
    "\n",
    "    result = [cols]\n",
    "    return result"
   ]
  },
  {
   "cell_type": "markdown",
   "metadata": {},
   "source": [
    "After implementing your fit, apply, save and load you can train your model:<br>\n",
    "| makeresults count=10<br>\n",
    "| streamstats c as i<br>\n",
    "| eval s = i%3<br>\n",
    "| eval feature_{s}=0<br>\n",
    "| foreach feature_* [eval &lt;&lt;FIELD&gt;&gt;=random()/pow(2,31)]<br>\n",
    "| fit MLTKContainer algo=barebone s from feature_* into app:barebone_model<br>"
   ]
  },
  {
   "cell_type": "markdown",
   "metadata": {},
   "source": [
    "Or apply your model:<br>\n",
    "| makeresults count=10<br>\n",
    "| streamstats c as i<br>\n",
    "| eval s = i%3<br>\n",
    "| eval feature_{s}=0<br>\n",
    "| foreach feature_* [eval &lt;&lt;FIELD&gt;&gt;=random()/pow(2,31)]<br>\n",
    "| apply barebone_model as the_meaning_of_life"
   ]
  },
  {
   "cell_type": "markdown",
   "metadata": {},
   "source": [
    "## Send data back to Splunk HEC\n",
    "When you configured the Splunk HEC Settings in the DSDL app you can easily send back data to an index with [Splunk's HTTP Event Collector (HEC)](https://docs.splunk.com/Documentation/Splunk/latest/Data/UsetheHTTPEventCollector). Read more about data formats and options in the [documentation](https://docs.splunk.com/Documentation/Splunk/latest/Data/FormateventsforHTTPEventCollector#Event_metadata).\n",
    "\n",
    "### Use cases\n",
    "- you want to offload longer running, possibly distributed computations that need to deliver results asynchroneously back into Splunk. \n",
    "- you might not want to present results back into the search pipeline after your `| fit` or `| apply` command. \n",
    "- you can easily utilize this approach for any logging purposes or other profiling tasks in your ML code so you can actively monitor and analyze your processes.\n",
    "\n",
    "### Example"
   ]
  },
  {
   "cell_type": "code",
   "execution_count": 18,
   "metadata": {},
   "outputs": [],
   "source": [
    "from dsdlsupport import SplunkHEC as SplunkHEC\n",
    "hec = SplunkHEC.SplunkHEC()"
   ]
  },
  {
   "cell_type": "code",
   "execution_count": 19,
   "metadata": {},
   "outputs": [],
   "source": [
    "# example to send 10 hello world events\n",
    "response = hec.send_hello_world(10)"
   ]
  },
  {
   "cell_type": "code",
   "execution_count": 20,
   "metadata": {},
   "outputs": [
    {
     "name": "stdout",
     "output_type": "stream",
     "text": [
      "HEC endpoint http://host.docker.internal:8088/services/collector/event \n",
      "returned with status code 200 \n",
      "and response message: {\"text\":\"Success\",\"code\":0}\n"
     ]
    }
   ],
   "source": [
    "print(\"HEC endpoint %s \\nreturned with status code %s \\nand response message: %s\" % (response.url, response.status_code, response.text))"
   ]
  },
  {
   "cell_type": "code",
   "execution_count": 21,
   "metadata": {},
   "outputs": [],
   "source": [
    "# example to send a JSON object, e.g. to log some data\n",
    "from datetime import datetime\n",
    "response = hec.send({'event': {'message': 'operation done', 'log_level': 'INFO' }, 'time': datetime.now().timestamp()})"
   ]
  },
  {
   "cell_type": "code",
   "execution_count": 22,
   "metadata": {},
   "outputs": [
    {
     "name": "stdout",
     "output_type": "stream",
     "text": [
      "HEC endpoint http://host.docker.internal:8088/services/collector/event \n",
      "returned with status code 200 \n",
      "and response message: {\"text\":\"Success\",\"code\":0}\n"
     ]
    }
   ],
   "source": [
    "print(\"HEC endpoint %s \\nreturned with status code %s \\nand response message: %s\" % (response.url, response.status_code, response.text))"
   ]
  },
  {
   "cell_type": "markdown",
   "metadata": {},
   "source": [
    "## End of Stages\n",
    "All subsequent cells are not tagged and can be used for further freeform code"
   ]
  },
  {
   "cell_type": "code",
   "execution_count": null,
   "metadata": {},
   "outputs": [],
   "source": []
  },
  {
   "cell_type": "code",
   "execution_count": null,
   "metadata": {},
   "outputs": [],
   "source": []
  }
 ],
 "metadata": {
  "kernelspec": {
   "display_name": "Python 3 (ipykernel)",
   "language": "python",
   "name": "python3"
  },
  "language_info": {
   "codemirror_mode": {
    "name": "ipython",
    "version": 3
   },
   "file_extension": ".py",
   "mimetype": "text/x-python",
   "name": "python",
   "nbconvert_exporter": "python",
   "pygments_lexer": "ipython3",
   "version": "3.9.18"
  }
 },
 "nbformat": 4,
 "nbformat_minor": 4
}
